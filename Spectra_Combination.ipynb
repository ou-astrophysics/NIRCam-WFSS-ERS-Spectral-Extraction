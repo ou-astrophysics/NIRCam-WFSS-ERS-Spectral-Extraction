{
 "cells": [
  {
   "cell_type": "markdown",
   "id": "2e07cece-fe48-4adb-b524-7e2545c9e77d",
   "metadata": {},
   "source": [
    "# NOTEBOOK FOR SPECTRA RESAMPLING AND COMBINATION TESTING\n",
    "Ideally want to resample the wavelength grid to that of our spectral resolution\n",
    "- We can oversample but this will lead to correlation between points"
   ]
  },
  {
   "cell_type": "markdown",
   "id": "96dbbc55-1a89-4048-aa0f-9f898a9b621f",
   "metadata": {
    "tags": []
   },
   "source": [
    "# Import Packages"
   ]
  },
  {
   "cell_type": "code",
   "execution_count": 1,
   "id": "884bb61a-6a33-4ff3-9c39-e4cd49a36af8",
   "metadata": {},
   "outputs": [],
   "source": [
    "import numpy as np\n",
    "import pandas as pd\n",
    "import astropy.io.fits as apfits\n",
    "import astropy.visualization as apvis\n",
    "import astropy.nddata as apnndd\n",
    "import astropy.table as aptable\n",
    "import astropy.wcs as apwcs\n",
    "import astropy.units as apunits\n",
    "import astropy.coordinates as apcoords\n",
    "import matplotlib.pyplot as mplplot\n",
    "import matplotlib.patches as mplpatches\n",
    "import glob\n",
    "import os\n",
    "import scipy as sp\n",
    "import scipy.optimize as spopt\n",
    "import copy\n",
    "import grismconf\n",
    "import sys\n",
    "import spectres"
   ]
  },
  {
   "cell_type": "markdown",
   "id": "9e474fc9-7b16-4a3d-a055-bb9f91e3e0e4",
   "metadata": {},
   "source": [
    "# Load in Datasets required"
   ]
  },
  {
   "cell_type": "code",
   "execution_count": 34,
   "id": "c5442c8d-5c95-4506-9b0b-a053787e2252",
   "metadata": {},
   "outputs": [],
   "source": [
    "file_path = '/Users/zx446701/Documents/Astro_Projects/Ice_Proposals/IceAge_ERS/Spectral_Extraction_Code/Test_Frame_Cluster_Outputs/'\n",
    "P1 = 'jw01309025001_01101_00001_nrca5_rate_lv1.5_F444W_A_R_Primary1_Exp00001_'\n",
    "P2 = 'jw01309025001_01101_00002_nrca5_rate_lv1.5_F444W_A_R_Primary1_Exp00002_'\n",
    "P3 = 'jw01309025001_01101_00003_nrca5_rate_lv1.5_F444W_A_R_Primary1_Exp00003_'\n",
    "P4 = 'jw01309025001_01101_00004_nrca5_rate_lv1.5_F444W_A_R_Primary1_Exp00004_'\n",
    "\n",
    "initial_params = 'OptBoxInitParams_result_array.npy'\n",
    "fitDF = 'fitted_dataframe.pkl'\n",
    "res_arr = 'OptBoxInitParams_result_array.npy'\n",
    "res_err_arr = 'OptBoxInitParams_result_error_array.npy'\n",
    "\n",
    "trace_x = 'trace_x_pixels.npy'\n",
    "trace_y = 'trace_y_pixels.npy'\n",
    "trace_WL = 'trace_WL.npy'"
   ]
  },
  {
   "cell_type": "code",
   "execution_count": 36,
   "id": "ea289076-2f8d-45ad-be8a-c80d5a9b8b36",
   "metadata": {},
   "outputs": [],
   "source": [
    "in_frameP1_name = file_path + P1 + fitDF\n",
    "in_frameP1 = pd.read_pickle(in_frameP1_name)\n",
    "initial_paramsP1 = np.load(file_path + P1 + initial_params)\n",
    "res_arrP1 = np.load(file_path + P1 + res_arr)\n",
    "res_err_arrP1 = np.load(file_path + P1 + res_err_arr)\n",
    "trace_xP1 = np.load(file_path + P1 + trace_x,allow_pickle=True)\n",
    "trace_yP1 = np.load(file_path + P1 + trace_y,allow_pickle=True)\n",
    "trace_WLP1 = np.load(file_path + P1 + trace_WL,allow_pickle=True)\n",
    "\n",
    "in_frameP2_name = file_path + P2 + fitDF\n",
    "in_frameP2 = pd.read_pickle(in_frameP2_name)\n",
    "initial_paramsP2 = np.load(file_path + P2 + initial_params)\n",
    "res_arrP2 = np.load(file_path + P2 + res_arr)\n",
    "res_err_arrP2 = np.load(file_path + P2 + res_err_arr)\n",
    "trace_xP2 = np.load(file_path + P2 + trace_x,allow_pickle=True)\n",
    "trace_yP2 = np.load(file_path + P2 + trace_y,allow_pickle=True)\n",
    "trace_WLP2 = np.load(file_path + P2 + trace_WL,allow_pickle=True)\n",
    "\n",
    "in_frameP3_name = file_path + P3 + fitDF\n",
    "in_frameP3 = pd.read_pickle(in_frameP3_name)\n",
    "initial_paramsP3 = np.load(file_path + P3 + initial_params)\n",
    "res_arrP3 = np.load(file_path + P3 + res_arr)\n",
    "res_err_arrP3 = np.load(file_path + P3 + res_err_arr)\n",
    "trace_xP3 = np.load(file_path + P3 + trace_x,allow_pickle=True)\n",
    "trace_yP3 = np.load(file_path + P3 + trace_y,allow_pickle=True)\n",
    "trace_WLP3 = np.load(file_path + P3 + trace_WL,allow_pickle=True)\n",
    "\n",
    "in_frameP4_name = file_path + P4 + fitDF\n",
    "in_frameP4 = pd.read_pickle(in_frameP4_name)\n",
    "initial_paramsP4 = np.load(file_path + P4 + initial_params)\n",
    "res_arrP4 = np.load(file_path + P4 + res_arr)\n",
    "res_err_arrP4 = np.load(file_path + P1 + res_err_arr)\n",
    "trace_xP4 = np.load(file_path + P4 + trace_x,allow_pickle=True)\n",
    "trace_yP4 = np.load(file_path + P4 + trace_y,allow_pickle=True)\n",
    "trace_WLP4 = np.load(file_path + P4 + trace_WL,allow_pickle=True)"
   ]
  },
  {
   "cell_type": "code",
   "execution_count": 135,
   "id": "1393713f-604b-4ac8-a44a-648e6b988bcb",
   "metadata": {
    "collapsed": true,
    "jupyter": {
     "outputs_hidden": true
    },
    "tags": []
   },
   "outputs": [
    {
     "data": {
      "text/html": [
       "<div>\n",
       "<style scoped>\n",
       "    .dataframe tbody tr th:only-of-type {\n",
       "        vertical-align: middle;\n",
       "    }\n",
       "\n",
       "    .dataframe tbody tr th {\n",
       "        vertical-align: top;\n",
       "    }\n",
       "\n",
       "    .dataframe thead th {\n",
       "        text-align: right;\n",
       "    }\n",
       "</style>\n",
       "<table border=\"1\" class=\"dataframe\">\n",
       "  <thead>\n",
       "    <tr style=\"text-align: right;\">\n",
       "      <th></th>\n",
       "      <th>0</th>\n",
       "    </tr>\n",
       "    <tr>\n",
       "      <th>FengwuID</th>\n",
       "      <th></th>\n",
       "    </tr>\n",
       "  </thead>\n",
       "  <tbody>\n",
       "    <tr>\n",
       "      <th>54</th>\n",
       "      <td>[4.305469244153728, 4.306473247544873, 4.30747...</td>\n",
       "    </tr>\n",
       "    <tr>\n",
       "      <th>343</th>\n",
       "      <td>[4.289405189895409, 4.290409193286554, 4.29141...</td>\n",
       "    </tr>\n",
       "    <tr>\n",
       "      <th>154</th>\n",
       "      <td>[4.272337132245944, 4.273341135637089, 4.27434...</td>\n",
       "    </tr>\n",
       "    <tr>\n",
       "      <th>347</th>\n",
       "      <td>[4.241213027120451, 4.242217030511596, 4.24322...</td>\n",
       "    </tr>\n",
       "    <tr>\n",
       "      <th>345</th>\n",
       "      <td>[4.231172993209001, 4.232176996600146, 4.23318...</td>\n",
       "    </tr>\n",
       "    <tr>\n",
       "      <th>...</th>\n",
       "      <td>...</td>\n",
       "    </tr>\n",
       "    <tr>\n",
       "      <th>250</th>\n",
       "      <td>[3.769331433282323, 3.770335436673468, 3.77133...</td>\n",
       "    </tr>\n",
       "    <tr>\n",
       "      <th>10</th>\n",
       "      <td>[3.769331433282323, 3.770335436673468, 3.77133...</td>\n",
       "    </tr>\n",
       "    <tr>\n",
       "      <th>248</th>\n",
       "      <td>[3.769331433282323, 3.770335436673468, 3.77133...</td>\n",
       "    </tr>\n",
       "    <tr>\n",
       "      <th>281</th>\n",
       "      <td>[3.769331433282323, 3.770335436673468, 3.77133...</td>\n",
       "    </tr>\n",
       "    <tr>\n",
       "      <th>3</th>\n",
       "      <td>[3.769331433282323, 3.770335436673468, 3.77133...</td>\n",
       "    </tr>\n",
       "  </tbody>\n",
       "</table>\n",
       "<p>199 rows × 1 columns</p>\n",
       "</div>"
      ],
      "text/plain": [
       "                                                          0\n",
       "FengwuID                                                   \n",
       "54        [4.305469244153728, 4.306473247544873, 4.30747...\n",
       "343       [4.289405189895409, 4.290409193286554, 4.29141...\n",
       "154       [4.272337132245944, 4.273341135637089, 4.27434...\n",
       "347       [4.241213027120451, 4.242217030511596, 4.24322...\n",
       "345       [4.231172993209001, 4.232176996600146, 4.23318...\n",
       "...                                                     ...\n",
       "250       [3.769331433282323, 3.770335436673468, 3.77133...\n",
       "10        [3.769331433282323, 3.770335436673468, 3.77133...\n",
       "248       [3.769331433282323, 3.770335436673468, 3.77133...\n",
       "281       [3.769331433282323, 3.770335436673468, 3.77133...\n",
       "3         [3.769331433282323, 3.770335436673468, 3.77133...\n",
       "\n",
       "[199 rows x 1 columns]"
      ]
     },
     "metadata": {},
     "output_type": "display_data"
    },
    {
     "data": {
      "text/html": [
       "<div>\n",
       "<style scoped>\n",
       "    .dataframe tbody tr th:only-of-type {\n",
       "        vertical-align: middle;\n",
       "    }\n",
       "\n",
       "    .dataframe tbody tr th {\n",
       "        vertical-align: top;\n",
       "    }\n",
       "\n",
       "    .dataframe thead th {\n",
       "        text-align: right;\n",
       "    }\n",
       "</style>\n",
       "<table border=\"1\" class=\"dataframe\">\n",
       "  <thead>\n",
       "    <tr style=\"text-align: right;\">\n",
       "      <th></th>\n",
       "      <th>0</th>\n",
       "    </tr>\n",
       "    <tr>\n",
       "      <th>FengwuID</th>\n",
       "      <th></th>\n",
       "    </tr>\n",
       "  </thead>\n",
       "  <tbody>\n",
       "    <tr>\n",
       "      <th>54</th>\n",
       "      <td>[4.296433213633423, 4.2974372170245685, 4.2984...</td>\n",
       "    </tr>\n",
       "    <tr>\n",
       "      <th>343</th>\n",
       "      <td>[4.279365155983959, 4.2803691593751045, 4.2813...</td>\n",
       "    </tr>\n",
       "    <tr>\n",
       "      <th>154</th>\n",
       "      <td>[4.262297098334495, 4.26330110172564, 4.264305...</td>\n",
       "    </tr>\n",
       "    <tr>\n",
       "      <th>347</th>\n",
       "      <td>[4.231172993209001, 4.232176996600146, 4.23318...</td>\n",
       "    </tr>\n",
       "    <tr>\n",
       "      <th>345</th>\n",
       "      <td>[4.221132959297552, 4.222136962688697, 4.22314...</td>\n",
       "    </tr>\n",
       "    <tr>\n",
       "      <th>...</th>\n",
       "      <td>...</td>\n",
       "    </tr>\n",
       "    <tr>\n",
       "      <th>250</th>\n",
       "      <td>[3.769331433282323, 3.770335436673468, 3.77133...</td>\n",
       "    </tr>\n",
       "    <tr>\n",
       "      <th>10</th>\n",
       "      <td>[3.769331433282323, 3.770335436673468, 3.77133...</td>\n",
       "    </tr>\n",
       "    <tr>\n",
       "      <th>248</th>\n",
       "      <td>[3.769331433282323, 3.770335436673468, 3.77133...</td>\n",
       "    </tr>\n",
       "    <tr>\n",
       "      <th>281</th>\n",
       "      <td>[3.769331433282323, 3.770335436673468, 3.77133...</td>\n",
       "    </tr>\n",
       "    <tr>\n",
       "      <th>3</th>\n",
       "      <td>[3.769331433282323, 3.770335436673468, 3.77133...</td>\n",
       "    </tr>\n",
       "  </tbody>\n",
       "</table>\n",
       "<p>199 rows × 1 columns</p>\n",
       "</div>"
      ],
      "text/plain": [
       "                                                          0\n",
       "FengwuID                                                   \n",
       "54        [4.296433213633423, 4.2974372170245685, 4.2984...\n",
       "343       [4.279365155983959, 4.2803691593751045, 4.2813...\n",
       "154       [4.262297098334495, 4.26330110172564, 4.264305...\n",
       "347       [4.231172993209001, 4.232176996600146, 4.23318...\n",
       "345       [4.221132959297552, 4.222136962688697, 4.22314...\n",
       "...                                                     ...\n",
       "250       [3.769331433282323, 3.770335436673468, 3.77133...\n",
       "10        [3.769331433282323, 3.770335436673468, 3.77133...\n",
       "248       [3.769331433282323, 3.770335436673468, 3.77133...\n",
       "281       [3.769331433282323, 3.770335436673468, 3.77133...\n",
       "3         [3.769331433282323, 3.770335436673468, 3.77133...\n",
       "\n",
       "[199 rows x 1 columns]"
      ]
     },
     "metadata": {},
     "output_type": "display_data"
    }
   ],
   "source": [
    "display(pd.DataFrame(trace_WLP1).set_index(in_frameP1.FengwuID))\n",
    "display(pd.DataFrame(trace_WLP2).set_index(in_frameP2.FengwuID))"
   ]
  },
  {
   "cell_type": "code",
   "execution_count": 110,
   "id": "a17a5f96-c360-468f-9b3f-f58263edd796",
   "metadata": {},
   "outputs": [
    {
     "name": "stdout",
     "output_type": "stream",
     "text": [
      "4.305469244153728 4.296433213633423 4.307477250936018 4.314505274674032\n"
     ]
    }
   ],
   "source": [
    "print(trace_WLP1[0][0],trace_WLP2[0][0],trace_WLP3[0][0],trace_WLP4[0][0])"
   ]
  },
  {
   "cell_type": "code",
   "execution_count": 119,
   "id": "3f0cbfcb-796f-41a1-aeaa-8a0e7fb1ae44",
   "metadata": {},
   "outputs": [
    {
     "name": "stdout",
     "output_type": "stream",
     "text": [
      "54 54 54 54\n"
     ]
    }
   ],
   "source": [
    "print(in_frameP1.FengwuID[0],in_frameP2.FengwuID[0],in_frameP3.FengwuID[0],in_frameP4.FengwuID[0])"
   ]
  },
  {
   "cell_type": "markdown",
   "id": "d358c86a-b1f6-4420-bdb0-baba305e0662",
   "metadata": {
    "tags": []
   },
   "source": [
    "### Extract Filter, module and direction set up"
   ]
  },
  {
   "cell_type": "code",
   "execution_count": 4,
   "id": "de098efb-113c-4c91-989b-491c951e7137",
   "metadata": {},
   "outputs": [
    {
     "name": "stdout",
     "output_type": "stream",
     "text": [
      "F444W A R\n"
     ]
    }
   ],
   "source": [
    "# Very specific to current file naming system\n",
    "filter_ = in_frameP1_name[161:166]\n",
    "module = in_frameP1_name[167]\n",
    "direction = in_frameP1_name[169]\n",
    "# primary = in_frameP1_name[178]\n",
    "# exposure = in_frameP1_name[187]\n",
    "print(filter_,module,direction)"
   ]
  },
  {
   "cell_type": "markdown",
   "id": "c3a39292-34a6-40ad-b004-938f3e82d8ae",
   "metadata": {
    "tags": []
   },
   "source": [
    "## Sensivity Curve Crossover\n",
    "\n",
    "Only necessary for 1st Order traces as F444W 2nd order traces are not strong enough, also the wavelengths will not crossover even if it was "
   ]
  },
  {
   "cell_type": "code",
   "execution_count": 5,
   "id": "337ac71f-6c95-4a50-bef5-fdacb60c52b7",
   "metadata": {},
   "outputs": [],
   "source": [
    "# THERE ARE NO FILES WITH DIRECTION = C\n",
    "H2OSensFile = apfits.open(f\"/Users/zx446701/OneDrive - The Open University/Ice_Age/Fengwu_Sims_2/GRISM_NIRCAM-master/V3/NIRCam.F322W2.{direction}.{module}.1st.sensitivity.fits\")\n",
    "# print(repr(SensFile[1].header)) # Units check\n",
    "H2OSensTable = aptable.Table(H2OSensFile[1].data)\n",
    "H2OSensData_WL = H2OSensTable[0][:]\n",
    "H2OSensData_Sens = H2OSensTable[1][:]\n",
    "H2OSensData_Er = H2OSensTable[2][:]\n",
    "\n",
    "# Set up the Spectral Response Function Curve to perform Flux calibration (from ADU to Flux)\n",
    "# fill_value = extrapolate required as the 2 wavelength ranges do not match\n",
    "# SRFCurve = sp.interpolate.interp1d(SensData_WL,SensData_Sens,kind='linear',bounds_error=False,fill_value=0)#\"extrapolate\")\n",
    "H2OSRFCurve = sp.interpolate.interp1d(H2OSensData_WL,H2OSensData_Sens,kind='cubic',fill_value=\"extrapolate\")\n",
    "\n",
    "# Create Dictionary of Curves to select from for flux calibration\n",
    "H2OSRFCurves = {1: H2OSRFCurve}"
   ]
  },
  {
   "cell_type": "code",
   "execution_count": 6,
   "id": "fa3b2d7c-686a-410e-8ee8-86f41a148c3e",
   "metadata": {},
   "outputs": [],
   "source": [
    "# THERE ARE NO FILES WITH DIRECTION = C\n",
    "COSensFile = apfits.open(f\"/Users/zx446701/OneDrive - The Open University/Ice_Age/Fengwu_Sims_2/GRISM_NIRCAM-master/V3/NIRCam.F444W.{direction}.{module}.1st.sensitivity.fits\")\n",
    "# print(repr(SensFile[1].header)) # Units check\n",
    "COSensTable = aptable.Table(COSensFile[1].data)\n",
    "COSensData_WL = COSensTable[0][:]\n",
    "COSensData_Sens = COSensTable[1][:]\n",
    "COSensData_Er = COSensTable[2][:]\n",
    "\n",
    "# Set up the Spectral Response Function Curve to perform Flux calibration (from ADU to Flux)\n",
    "# fill_value = extrapolate required as the 2 wavelength ranges do not match\n",
    "# SRFCurve = sp.interpolate.interp1d(SensData_WL,SensData_Sens,kind='linear',bounds_error=False,fill_value=0)#\"extrapolate\")\n",
    "COSRFCurve = sp.interpolate.interp1d(COSensData_WL,COSensData_Sens,kind='cubic',fill_value=\"extrapolate\")\n",
    "\n",
    "# Create Dictionary of Curves to select from for flux calibration\n",
    "COSRFCurves = {1: COSRFCurve}"
   ]
  },
  {
   "cell_type": "code",
   "execution_count": 65,
   "id": "d8a1e28a-d79c-4694-ab59-d4cb48d7859a",
   "metadata": {
    "collapsed": true,
    "jupyter": {
     "outputs_hidden": true,
     "source_hidden": true
    },
    "tags": []
   },
   "outputs": [
    {
     "data": {
      "text/plain": [
       "Text(0.5, 1.05, '1st Order Sensitivity Curves for F322W2 A and F444W A')"
      ]
     },
     "execution_count": 65,
     "metadata": {},
     "output_type": "execute_result"
    },
    {
     "data": {
      "image/png": "[encoded data removed]",
      "text/plain": [
       "<Figure size 432x288 with 1 Axes>"
      ]
     },
     "metadata": {
      "needs_background": "light"
     },
     "output_type": "display_data"
    }
   ],
   "source": [
    "mplplot.plot(H2OSensData_WL,H2OSRFCurve(H2OSensData_WL))\n",
    "mplplot.plot(COSensData_WL,COSRFCurve(COSensData_WL))\n",
    "mplplot.xlabel(\"Wavelength / $\\mu$m\")\n",
    "mplplot.ylabel(\"Throughput\")\n",
    "mplplot.title(f\"1st Order Sensitivity Curves for F322W2 A and F444W A\",y=1.05)"
   ]
  },
  {
   "cell_type": "code",
   "execution_count": 7,
   "id": "1ae66fda-735a-4c18-9c06-7e40a91672cb",
   "metadata": {
    "collapsed": true,
    "jupyter": {
     "outputs_hidden": true
    },
    "tags": []
   },
   "outputs": [
    {
     "name": "stderr",
     "output_type": "stream",
     "text": [
      "/Users/zx446701/opt/anaconda3/envs/astroconda/lib/python3.7/site-packages/ipykernel_launcher.py:4: FutureWarning: Using a non-tuple sequence for multidimensional indexing is deprecated; use `arr[tuple(seq)]` instead of `arr[seq]`. In the future this will be interpreted as an array index, `arr[np.array(seq)]`, which will result either in an error or a different result.\n",
      "  after removing the cwd from sys.path.\n",
      "/Users/zx446701/opt/anaconda3/envs/astroconda/lib/python3.7/site-packages/ipykernel_launcher.py:5: FutureWarning: Using a non-tuple sequence for multidimensional indexing is deprecated; use `arr[tuple(seq)]` instead of `arr[seq]`. In the future this will be interpreted as an array index, `arr[np.array(seq)]`, which will result either in an error or a different result.\n",
      "  \"\"\"\n",
      "/Users/zx446701/opt/anaconda3/envs/astroconda/lib/python3.7/site-packages/ipykernel_launcher.py:6: FutureWarning: Using a non-tuple sequence for multidimensional indexing is deprecated; use `arr[tuple(seq)]` instead of `arr[seq]`. In the future this will be interpreted as an array index, `arr[np.array(seq)]`, which will result either in an error or a different result.\n",
      "  \n",
      "/Users/zx446701/opt/anaconda3/envs/astroconda/lib/python3.7/site-packages/ipykernel_launcher.py:7: FutureWarning: Using a non-tuple sequence for multidimensional indexing is deprecated; use `arr[tuple(seq)]` instead of `arr[seq]`. In the future this will be interpreted as an array index, `arr[np.array(seq)]`, which will result either in an error or a different result.\n",
      "  import sys\n",
      "/Users/zx446701/opt/anaconda3/envs/astroconda/lib/python3.7/site-packages/ipykernel_launcher.py:9: FutureWarning: Using a non-tuple sequence for multidimensional indexing is deprecated; use `arr[tuple(seq)]` instead of `arr[seq]`. In the future this will be interpreted as an array index, `arr[np.array(seq)]`, which will result either in an error or a different result.\n",
      "  if __name__ == '__main__':\n",
      "/Users/zx446701/opt/anaconda3/envs/astroconda/lib/python3.7/site-packages/ipykernel_launcher.py:10: FutureWarning: Using a non-tuple sequence for multidimensional indexing is deprecated; use `arr[tuple(seq)]` instead of `arr[seq]`. In the future this will be interpreted as an array index, `arr[np.array(seq)]`, which will result either in an error or a different result.\n",
      "  # Remove the CWD from sys.path while we load stuff.\n"
     ]
    }
   ],
   "source": [
    "H2Ocondition = [H2OSensData_WL>COSensData_WL.min()]\n",
    "COcondition = [COSensData_WL<H2OSensData_WL.max()]\n",
    "\n",
    "maskH2OWL = H2OSensData_WL[H2Ocondition]\n",
    "maskH2OSens = H2OSensData_Sens[H2Ocondition]\n",
    "maskCOWL = COSensData_WL[COcondition]\n",
    "maskCOSens = COSensData_Sens[COcondition]\n",
    "\n",
    "H2O_LT_CO = H2OSensData_Sens[H2Ocondition]<COSensData_Sens[COcondition]\n",
    "H2O_GT_CO = H2OSensData_Sens[H2Ocondition]>COSensData_Sens[COcondition]"
   ]
  },
  {
   "cell_type": "code",
   "execution_count": 8,
   "id": "b489f196-4b7e-47c0-91d9-5bddd8642d10",
   "metadata": {
    "tags": []
   },
   "outputs": [
    {
     "name": "stdout",
     "output_type": "stream",
     "text": [
      "3.9630000000000014\n"
     ]
    }
   ],
   "source": [
    "# AFTER APPLYING CONDITION, THE LENGTH OF THE ARRAYS IS EQUAL (760)\n",
    "# THEREFORE WE ARE ABLE TO WORK WITH ASTROPY COLUMNS OF SENS CURVES \n",
    "# TO FIND THE WAVELENGTH AT WHICH F444W SENS CURVE HAS HIGHER THROUGHPUT\n",
    "# THIS IS PRINTED BELOW\n",
    "# print(len(H2OSensData_WL[H2Ocondition]))\n",
    "# print(len(COSensData_WL[COcondition]))\n",
    "\n",
    "cross_WL = maskH2OWL[H2O_LT_CO][0]\n",
    "cross_WL_TP = maskH2OSens[H2O_LT_CO][0]\n",
    "print(cross_WL)"
   ]
  },
  {
   "cell_type": "markdown",
   "id": "d1510541-c890-460a-9b60-86920ab659d7",
   "metadata": {
    "tags": []
   },
   "source": [
    "### Plot demonstrating Throughput crossover"
   ]
  },
  {
   "cell_type": "code",
   "execution_count": 9,
   "id": "ae84a5bd-f2b9-4ce1-b6bd-448ba4f96090",
   "metadata": {},
   "outputs": [
    {
     "data": {
      "text/plain": [
       "<matplotlib.legend.Legend at 0x7fe0b15f0d50>"
      ]
     },
     "execution_count": 9,
     "metadata": {},
     "output_type": "execute_result"
    },
    {
     "data": {
      "image/png": "[encoded data removed]",
      "text/plain": [
       "<Figure size 432x288 with 1 Axes>"
      ]
     },
     "metadata": {
      "needs_background": "light"
     },
     "output_type": "display_data"
    }
   ],
   "source": [
    "mplplot.plot(maskH2OWL[H2O_GT_CO],maskH2OSens[H2O_GT_CO],c='b',label=\"F322W2 > F444W Sensitivity\")\n",
    "mplplot.plot(maskH2OWL[H2O_LT_CO],maskH2OSens[H2O_LT_CO],c='b',ls='--',label=\"F322W2 < F444W Sensitivity\")\n",
    "mplplot.scatter(cross_WL,cross_WL_TP,c='r',marker='x',label=f'$\\lambda$ = {cross_WL} $\\mu$m')\n",
    "mplplot.plot(maskCOWL[H2O_GT_CO],maskCOSens[H2O_GT_CO],c='orange',ls = '--',label=\"F322W2 > F444W Sensitivity\")\n",
    "mplplot.plot(maskCOWL[H2O_LT_CO],maskCOSens[H2O_LT_CO],c='orange',label=\"F322W2 < F444W Sensitivity\")\n",
    "mplplot.xlabel(\"$\\lambda$ / $\\mu$m\")\n",
    "mplplot.ylabel(\"Throughput\")\n",
    "mplplot.legend(loc='best',bbox_to_anchor=(1.05, 1))"
   ]
  },
  {
   "cell_type": "markdown",
   "id": "db47afc4-97bc-4ecd-9f6d-0d1062da389b",
   "metadata": {},
   "source": [
    "## Flux calibration and Fengwu ID matching between frames"
   ]
  },
  {
   "cell_type": "code",
   "execution_count": 175,
   "id": "b0ce0569-a8d1-4225-92e5-2bbdabca698e",
   "metadata": {},
   "outputs": [
    {
     "name": "stderr",
     "output_type": "stream",
     "text": [
      "/Users/zx446701/opt/anaconda3/envs/astroconda/lib/python3.7/site-packages/ipykernel_launcher.py:40: RuntimeWarning: invalid value encountered in true_divide\n",
      "/Users/zx446701/opt/anaconda3/envs/astroconda/lib/python3.7/site-packages/ipykernel_launcher.py:43: RuntimeWarning: invalid value encountered in true_divide\n",
      "/Users/zx446701/opt/anaconda3/envs/astroconda/lib/python3.7/site-packages/ipykernel_launcher.py:40: RuntimeWarning: divide by zero encountered in true_divide\n",
      "/Users/zx446701/opt/anaconda3/envs/astroconda/lib/python3.7/site-packages/ipykernel_launcher.py:43: RuntimeWarning: divide by zero encountered in true_divide\n"
     ]
    }
   ],
   "source": [
    "PSFSensCurves = []\n",
    "\n",
    "primary_res_arrs = [res_arrP1,res_arrP2,res_arrP3,res_arrP4]\n",
    "primary_trace_x = [trace_xP1,trace_xP2,trace_xP3,trace_xP4]\n",
    "primary_trace_y = [trace_yP1,trace_yP2,trace_yP3,trace_yP4]\n",
    "primary_trace_WL = [trace_WLP1,trace_WLP2,trace_WLP3,trace_WLP4]\n",
    "primary_in_frame_data = [in_frameP1,in_frameP2,in_frameP3,in_frameP4]\n",
    "\n",
    "# primary_calibrated_PSF_OptBox_Fluxes = []\n",
    "# primary_calibrated_PSF_OptBox_FluxesErr = []\n",
    "\n",
    "primaryFrameFluxCalData = []\n",
    "primaryFrameFluxErrCalData = []\n",
    "\n",
    "primaryTraceWLs = []\n",
    "\n",
    "for idx , (res_arr,trace_x,trace_y,trace_WL,in_frame_data) in enumerate(zip(primary_res_arrs,primary_trace_x,primary_trace_y,primary_trace_WL,primary_in_frame_data)):\n",
    "\n",
    "    PSFSensCurve = np.zeros_like(res_arr)\n",
    "\n",
    "    # DO I NEED A FILTER AND MODULE CONDITION ON THIS DUE TO DIFFERENT DISP DIRECTIONS?\n",
    "    # Currently for F444W A, wavelength follows low to high column number but B module would be reverse\n",
    "    # THIS WOULD BE DONE ON THE CALIBRATED FLUX STEP LIKE RESULT / RESULTSENSCURVE[::-1]\n",
    "\n",
    "    if direction == \"R\":\n",
    "\n",
    "        for res_index, res in enumerate(res_arrP1):\n",
    "            \"\"\"\n",
    "            # WHERE [1] SITS IT NEEDS TO READ [ORDER] IN GENERALISED CODE \n",
    "            \"\"\"\n",
    "            PSFSensCurve[res_index,trace_x[res_index]] = COSRFCurves[1](trace_WL[res_index])\n",
    "    else:\n",
    "\n",
    "        for res_index, res in enumerate(res_arrP1):\n",
    "            PSFSensCurve[res_index,trace_y[res_index]] = COSRFCurves[1](trace_WL[res_index])\n",
    "\n",
    "    PSFSensCurves.append(PSFSensCurve)\n",
    "    \n",
    "\n",
    "    calibrated_PSF_OptBox_Flux = res_arrP1/PSFSensCurve\n",
    "    # primary_calibrated_PSF_OptBox_Fluxes.append(calibrated_PSF_OptBox_Flux)\n",
    "    \n",
    "    calibrated_PSF_OptBox_FluxErr = res_err_arrP1/PSFSensCurve\n",
    "    # primary_calibrated_PSF_OptBox_FluxesErr.append(calibrated_PSF_OptBox_FluxErr)\n",
    "    \n",
    "    frameFluxCalData = pd.DataFrame(calibrated_PSF_OptBox_Flux).set_index(in_frame_data.FengwuID)\n",
    "    primaryFrameFluxCalData.append(frameFluxCalData)\n",
    "    \n",
    "    frameFluxErrCalData = pd.DataFrame(calibrated_PSF_OptBox_FluxErr).set_index(in_frame_data.FengwuID)\n",
    "    primaryFrameFluxErrCalData.append(frameFluxErrCalData)\n",
    "    \n",
    "    primaryTraceWL = pd.DataFrame(trace_WL).set_index(in_frame_data.FengwuID)\n",
    "    primaryTraceWLs.append(primaryTraceWL)"
   ]
  },
  {
   "cell_type": "markdown",
   "id": "cc42f46d-4b95-4299-a4c9-67b47d6c61a1",
   "metadata": {},
   "source": [
    "### Concatenate Dataframes"
   ]
  },
  {
   "cell_type": "code",
   "execution_count": 101,
   "id": "99de6416-70f1-466d-ba50-6bb32ec80b7d",
   "metadata": {},
   "outputs": [],
   "source": [
    "PrimaryDitherFluxes = pd.concat(primaryFrameFluxCalData).sort_index()\n",
    "PrimaryDitherFluxesErr = pd.concat(primaryFrameFluxErrCalData).sort_index()\n",
    "PrimaryDitherTraceWLs = pd.concat(primaryTraceWLs).sort_index()"
   ]
  },
  {
   "cell_type": "markdown",
   "id": "b6bed66e-85b6-46d9-9243-f4ef21de4614",
   "metadata": {
    "tags": []
   },
   "source": [
    "## Plotting Setup"
   ]
  },
  {
   "cell_type": "code",
   "execution_count": 190,
   "id": "3d5be220-55d4-46e5-9f46-040da51afc05",
   "metadata": {},
   "outputs": [
    {
     "name": "stdout",
     "output_type": "stream",
     "text": [
      "2048\n",
      "836\n",
      "866\n"
     ]
    }
   ],
   "source": [
    "print(len(calibrated_PSF_OptBox_Flux[2]))\n",
    "print(len(calibrated_PSF_OptBox_Flux[2][~np.isnan(calibrated_PSF_OptBox_Flux[2])]))#|(np.isnan(initial_paramsP1[2]))]))\n",
    "print(len(trace_WLP1[2]))"
   ]
  },
  {
   "cell_type": "code",
   "execution_count": 51,
   "id": "0795d673-af6f-47be-865c-9029490c313c",
   "metadata": {},
   "outputs": [
    {
     "name": "stdout",
     "output_type": "stream",
     "text": [
      "2032\n",
      "16\n",
      "(array([  0,   1,   2,   3,  89, 140, 168, 334, 352, 521, 546, 547, 661,\n",
      "       736, 748, 820]),)\n",
      "1231\n"
     ]
    }
   ],
   "source": [
    "print(sum(initial_paramsP1[0] < 999))\n",
    "print(sum(np.isnan(initial_paramsP1[0])))\n",
    "#WHY ARE THERE RANDOMLY MISSING DATA POINTS?\n",
    "# WILL SPECTRES JUST DEAL WITH THIS????\n",
    "print(np.where(np.isnan(initial_paramsP1[0])))\n",
    "print(sum(np.isnan(calibrated_PSF_OptBox_Flux[0])))"
   ]
  },
  {
   "cell_type": "code",
   "execution_count": 60,
   "id": "6bac3d51-8e28-4d0e-90f2-7377bb2e0126",
   "metadata": {},
   "outputs": [
    {
     "data": {
      "text/plain": [
       "(4.443017708740586, 4.449041729087456)"
      ]
     },
     "execution_count": 60,
     "metadata": {},
     "output_type": "execute_result"
    },
    {
     "data": {
      "image/png": "[encoded data removed]",
      "text/plain": [
       "<Figure size 432x288 with 1 Axes>"
      ]
     },
     "metadata": {
      "needs_background": "light"
     },
     "output_type": "display_data"
    }
   ],
   "source": [
    "# Optimally Weighted Box Method Extraction \n",
    "\n",
    "wavelengths = trace_WLP1[0]\n",
    "non_nan_wavelength_condition = (~np.isnan(calibrated_PSF_OptBox_Flux[0]))|(np.isnan(initial_paramsP1[0]))\n",
    "\n",
    "if filter_ == \"F322W2\":\n",
    "    wavelengths_mask = (wavelengths>=2.5) & (wavelengths<3.9)\n",
    "else:\n",
    "    wavelengths_mask = (wavelengths>=3.9) & (wavelengths<5)\n",
    "\n",
    "calibrated_PSF_OptBox_Flux_non_nan = calibrated_PSF_OptBox_Flux[0][non_nan_wavelength_condition]\n",
    "# print(np.any(np.isnan(make_it_work)))\n",
    "# print(np.min(make_it_work))\n",
    "# make_it_work = calibrated_PSF_OptBox_Flux[0][(initial_paramsP1[0] < 999) | (np.isnan(initial_paramsP1[0]))]\n",
    "mplplot.plot(wavelengths[wavelengths_mask],calibrated_PSF_OptBox_Flux_non_nan[wavelengths_mask])\n",
    "mplplot.xlabel('$\\lambda$ / $\\mu$m')\n",
    "mplplot.ylabel(\"Flux / erg s$^{-1}$ cm$^{-2}$ Å$^{-1}$\")\n",
    "mplplot.xlim(wavelengths[137],wavelengths[143])"
   ]
  },
  {
   "cell_type": "markdown",
   "id": "1b8fee31-02d2-454a-819a-7a2bd77da121",
   "metadata": {},
   "source": [
    "## Combination Time\n",
    "\n",
    "For now, set a hard limit on the max wavelength of F322W2 and minimum wavelength of F444W as 3.963μm for seamless stitching of spectra. \n",
    "If we find any spectra which have data within these crossover wavelengths, we can consider combining this data at a latter stage.\n",
    "\n",
    "Thinking about number of bins required:\n",
    "- Something I am uncertain on how to set right now so will experiment for now."
   ]
  },
  {
   "cell_type": "markdown",
   "id": "1406e43c-04b8-4c9c-82b0-db15548a4e0b",
   "metadata": {},
   "source": [
    "Can try:\n",
    "- Resampling filters to separate wavelength ranges and then combining\n",
    "    - Will mean we need a common wavelength for F322W2 filter to end with and F444W begins\n",
    "or:\n",
    "- Resample both filters to full wavelength range and then combine\n",
    "    - This approach will allow full datasets to be used\n",
    "\n",
    "Need to consider cutting off wavelength ranges in accordance to sensitivity curves\n",
    "- Plot both filter sensitivity curves and determine which wavelengths to keep and which to cut\n",
    "    - Use the wavelength at which the throughput's overlap for maximum sensitivity?\n"
   ]
  },
  {
   "cell_type": "code",
   "execution_count": 69,
   "id": "ed868ffe-1bc8-4585-8d9e-e0bf7755df3c",
   "metadata": {},
   "outputs": [
    {
     "data": {
      "text/plain": [
       "array([ 1.,  2.,  3.,  4.,  5.,  6.,  7.,  8.,  9., 10.])"
      ]
     },
     "execution_count": 69,
     "metadata": {},
     "output_type": "execute_result"
    }
   ],
   "source": [
    "np.linspace(1,10,10)"
   ]
  },
  {
   "cell_type": "code",
   "execution_count": 93,
   "id": "388403b2-69e1-4f71-a69a-8bf2e133e109",
   "metadata": {},
   "outputs": [
    {
     "data": {
      "text/plain": [
       "2741"
      ]
     },
     "execution_count": 93,
     "metadata": {},
     "output_type": "execute_result"
    }
   ],
   "source": [
    "len(COSensData_WL)"
   ]
  },
  {
   "cell_type": "code",
   "execution_count": 185,
   "id": "bb484788-816d-4587-a423-c62d52ac54a9",
   "metadata": {},
   "outputs": [
    {
     "data": {
      "text/plain": [
       "array([ 0.00000000e+00,  0.00000000e+00,  1.17563074e-16, ...,\n",
       "        8.74994812e-18,  1.21565197e-17, -5.05155838e-18])"
      ]
     },
     "execution_count": 185,
     "metadata": {},
     "output_type": "execute_result"
    }
   ],
   "source": [
    "testFL = PrimaryDitherFluxes.reset_index()\n",
    "testFL[testFL.FengwuID==0].loc[0][1:].values[~np.isnan(testFL[testFL.FengwuID==0].loc[0][1:].values)]"
   ]
  },
  {
   "cell_type": "code",
   "execution_count": 157,
   "id": "0e9a08f4-a4db-4ef9-a1d6-fc80f5d8621f",
   "metadata": {},
   "outputs": [],
   "source": [
    "testER = PrimaryDitherFluxesErr.reset_index()\n",
    "\n",
    "testWL= PrimaryDitherTraceWLs.reset_index()"
   ]
  },
  {
   "cell_type": "code",
   "execution_count": 178,
   "id": "3898d46c-8013-4ff3-9bae-44ca82b45d32",
   "metadata": {},
   "outputs": [
    {
     "data": {
      "text/plain": [
       "1301"
      ]
     },
     "execution_count": 178,
     "metadata": {},
     "output_type": "execute_result"
    }
   ],
   "source": [
    "len(testWL[testFL.FengwuID==0].loc[0][0])"
   ]
  },
  {
   "cell_type": "code",
   "execution_count": 168,
   "id": "c072aa48-417a-48d0-85f2-7647b486ee6e",
   "metadata": {},
   "outputs": [
    {
     "data": {
      "text/plain": [
       "array([3.77      , 3.77100809, 3.77201619, ..., 5.13798381, 5.13899191,\n",
       "       5.14      ])"
      ]
     },
     "execution_count": 168,
     "metadata": {},
     "output_type": "execute_result"
    }
   ],
   "source": [
    "new_wavs"
   ]
  },
  {
   "cell_type": "code",
   "execution_count": 179,
   "id": "b6dfbb3e-4df0-4a50-8360-94df86aedcc5",
   "metadata": {},
   "outputs": [],
   "source": [
    "nbins = 500\n",
    "\n",
    "# Experiment with wavelength ranges\n",
    "# Attempt 1: Full WL range of Sens Filter with SAME NUMBER OF BINS AS WAVELENGTHS\n",
    "new_wavs = np.linspace(np.min(COSensData_WL),np.max(COSensData_WL), nbins)\n",
    "\"\"\"\n",
    "binned_fluxes, binned_errors = spectres.spectres(new_wavs, current_WL_range, current_flux, spec_errs=current_flux_err, fill=None, verbose=False)\n",
    "\"\"\"\n",
    "\n",
    "binned_fluxes, binned_errors = spectres.spectres(new_wavs, testWL[testFL.FengwuID==0].loc[0][0], testFL[testFL.FengwuID==0].loc[0][1:].values, spec_errs=testER[testFL.FengwuID==0].loc[0][1:].values, fill=None, verbose=False)\n"
   ]
  },
  {
   "cell_type": "code",
   "execution_count": 181,
   "id": "15b31941-efd9-4777-b899-1c7fa3a7565f",
   "metadata": {},
   "outputs": [
    {
     "data": {
      "text/plain": [
       "<ErrorbarContainer object of 3 artists>"
      ]
     },
     "execution_count": 181,
     "metadata": {},
     "output_type": "execute_result"
    },
    {
     "data": {
      "image/png": "[encoded data removed]",
      "text/plain": [
       "<Figure size 432x288 with 1 Axes>"
      ]
     },
     "metadata": {
      "needs_background": "light"
     },
     "output_type": "display_data"
    }
   ],
   "source": [
    "mplplot.errorbar(new_wavs,binned_fluxes,yerr=binned_errors,ecolor='k',)\n",
    "# mplplot.ylim(0,5e-17)"
   ]
  },
  {
   "cell_type": "code",
   "execution_count": null,
   "id": "3d88fb0c-19c3-4bf9-894f-090811a2f0bd",
   "metadata": {},
   "outputs": [],
   "source": []
  }
 ],
 "metadata": {
  "kernelspec": {
   "display_name": "Python 3 (ipykernel)",
   "language": "python",
   "name": "python3"
  },
  "language_info": {
   "codemirror_mode": {
    "name": "ipython",
    "version": 3
   },
   "file_extension": ".py",
   "mimetype": "text/x-python",
   "name": "python",
   "nbconvert_exporter": "python",
   "pygments_lexer": "ipython3",
   "version": "3.7.11"
  }
 },
 "nbformat": 4,
 "nbformat_minor": 5
}
