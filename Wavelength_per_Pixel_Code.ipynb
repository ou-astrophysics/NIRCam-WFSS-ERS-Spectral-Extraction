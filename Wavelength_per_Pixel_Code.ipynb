{
 "cells": [
  {
   "cell_type": "code",
   "execution_count": 1,
   "id": "c5aaa964-6d17-4e1d-a5d8-2aa7e8858b0e",
   "metadata": {},
   "outputs": [],
   "source": [
    "import grismconf\n",
    "import numpy as np"
   ]
  },
  {
   "cell_type": "code",
   "execution_count": 2,
   "id": "52097b8e-1cb9-4629-ae98-d9f9e4d07ecb",
   "metadata": {},
   "outputs": [
    {
     "name": "stdout",
     "output_type": "stream",
     "text": [
      "[12.08165481 12.48432066]\n",
      "[20.09028909 20.63388985]\n",
      "0.5436007606202864\n",
      "Wavelengths per pixel for F444W Module A Direction R = 0.001004 micron\n",
      "Wavelengths per pixel for F444W Module A Direction C = -1.0405 micron\n",
      "Wavelengths per pixel for F444W Module B Direction R = -0.001004 micron\n",
      "Wavelengths per pixel for F444W Module B Direction C = 0.5436 micron\n"
     ]
    }
   ],
   "source": [
    "confFileCO = f\"/Users/zx446701/OneDrive - The Open University/Ice_Age/Fengwu_Sims_2/GRISM_NIRCAM-master/V3/NIRCAM_F444W_modB_C.conf\"\n",
    "testCO = grismconf.Config(confFileCO)\n",
    "\n",
    "dxCO = np.array([0,1])\n",
    "tsCO = testCO.INVDISPX('+1',1024,1024,dxCO)\n",
    "# print(tsCO)\n",
    "\n",
    "# Wavelength per pixel is linear across frame for each individual filter and grism setup\n",
    "wavelengthCO = testCO.DISPL('+1',1024,1024,tsCO)\n",
    "# print(wavelengthCO)\n",
    "# print(wavelengthCO[1]-wavelengthCO[0])\n",
    "\n",
    "print(\"Wavelengths per pixel for F444W Module A Direction R = 0.001004 micron\")\n",
    "print(\"Wavelengths per pixel for F444W Module A Direction C = -1.0405 micron\")\n",
    "print(\"Wavelengths per pixel for F444W Module B Direction R = -0.001004 micron\")\n",
    "print(\"Wavelengths per pixel for F444W Module B Direction C = 0.5436 micron\")"
   ]
  },
  {
   "cell_type": "code",
   "execution_count": 8,
   "id": "dd96f6b9-ee81-4c80-9f99-6fd5d01866e7",
   "metadata": {},
   "outputs": [
    {
     "name": "stdout",
     "output_type": "stream",
     "text": [
      "[27.57215328 26.98425709]\n",
      "[51.18275528 50.14217806]\n",
      "-1.0405772241869258\n",
      "0.0010040009347567318\n",
      "Wavelengths per pixel for F322W2 Module A Direction R = 0.001004 micron\n",
      "Wavelengths per pixel for F322W2 Module A Direction C = -1.0405 micron\n",
      "Wavelengths per pixel for F322W2 Module B Direction R = -0.001004 micron\n",
      "Wavelengths per pixel for F322W2 Module B Direction C = 0.5436 micron\n"
     ]
    }
   ],
   "source": [
    "confFileH2O = f\"/Users/zx446701/OneDrive - The Open University/Ice_Age/Fengwu_Sims_2/GRISM_NIRCAM-master/V3/NIRCAM_F322W2_modA_C.conf\"\n",
    "testH2O = grismconf.Config(confFileH2O)\n",
    "\n",
    "dxH2O = np.array([0,1])\n",
    "tsH2O = testH2O.INVDISPX('+1',1024,1024,dxH2O) # THIS NEEDS TO BE Y FOR C GRISM\n",
    "print(tsH2O)\n",
    "\n",
    "# Wavelength per pixel is linear across frame for each individual filter and grism setup\n",
    "wavelengthH2O = testH2O.DISPL('+1',1024,1024,tsH2O)\n",
    "print(wavelengthH2O)\n",
    "print(wavelengthH2O[1]-wavelengthH2O[0])\n",
    "\n",
    "print(testH2O.DDISPL('+1',1024,1024,0)/testH2O.DDISPY('+1',1024,1024,0))\n",
    "\n",
    "print(\"Wavelengths per pixel for F322W2 Module A Direction R = 0.001004 micron\")"
   ]
  },
  {
   "cell_type": "code",
   "execution_count": null,
   "id": "63d1b53e-9d4a-441c-8d69-1e01836577ea",
   "metadata": {},
   "outputs": [],
   "source": []
  }
 ],
 "metadata": {
  "kernelspec": {
   "display_name": "Python 3 (ipykernel)",
   "language": "python",
   "name": "python3"
  },
  "language_info": {
   "codemirror_mode": {
    "name": "ipython",
    "version": 3
   },
   "file_extension": ".py",
   "mimetype": "text/x-python",
   "name": "python",
   "nbconvert_exporter": "python",
   "pygments_lexer": "ipython3",
   "version": "3.7.11"
  }
 },
 "nbformat": 4,
 "nbformat_minor": 5
}
