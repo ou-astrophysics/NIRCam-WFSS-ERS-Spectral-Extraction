{
 "cells": [
  {
   "cell_type": "markdown",
   "id": "af8079e2-f58a-44e4-9fa4-93f1d2c2b9f0",
   "metadata": {},
   "source": [
    "# FUNCTIONS FROM ORIGINAL SCRIPT"
   ]
  },
  {
   "cell_type": "code",
   "execution_count": 1,
   "id": "e42f53b1-1431-434b-b3aa-f347fa3c7bd0",
   "metadata": {},
   "outputs": [],
   "source": [
    "import numpy as np\n",
    "import pandas as pd\n",
    "import astropy.io.fits as apfits\n",
    "import astropy.visualization as apvis\n",
    "import astropy.nddata as apnndd\n",
    "import astropy.table as aptable\n",
    "import astropy.wcs as apwcs\n",
    "import astropy.units as apunits\n",
    "import astropy.coordinates as apcoords\n",
    "import matplotlib.pyplot as mplplot\n",
    "import matplotlib.patches as mplpatches\n",
    "import glob\n",
    "import os\n",
    "import scipy as sp\n",
    "import scipy.optimize as spopt\n",
    "import copy\n",
    "import grismconf\n",
    "import sys\n",
    "import spectres"
   ]
  },
  {
   "cell_type": "markdown",
   "id": "bf337dd0-5e99-403d-bea5-7f0c40d131e1",
   "metadata": {
    "tags": []
   },
   "source": [
    "# Accessing Fengwu Data Files (OneDrive)"
   ]
  },
  {
   "cell_type": "markdown",
   "id": "bdf6546e-9393-411f-8657-c3539ed3d58d",
   "metadata": {
    "tags": []
   },
   "source": [
    "## Load in frame file and designate variables of the filter, grism and module of the input frame file from the header\n",
    "\n",
    "Comments on file:\n",
    "- Each file contains multiple headers! SEE THESE THROUGH print(Frame) THEN CHECK INDIVIDUALLY THROUGH Frame[0] or ['PRIMARY'] \n",
    "- To see the name of headers past ['PRIMARY'], see \"EXTNAME\" in their header\n",
    "- Header has all the secrets (as per)\n",
    "- I believe the reason we cannot drizzlepac the frames together is that the file type (Frame['PRIMARY'].header['FILETYPE']) = 'raw'\n",
    "- When it comes to using drizzlepac, the \"Dither Information\" keywords will be essential in combining the correct files\n",
    "- File name origins outlined in header \"Observation identifiers\" keywords\n",
    "- CDRS Information at bottom header must be files set in MIRAGE - ask Fengwu?\n"
   ]
  },
  {
   "cell_type": "code",
   "execution_count": 2,
   "id": "508cea26-48d8-416a-afb3-65972ebc801e",
   "metadata": {
    "tags": []
   },
   "outputs": [],
   "source": [
    "# F322W2 R A - trace cross-dispersion shift = -25.6906816 to -22.448626\n",
    "# WORKS\n",
    "# file_name = \"/Users/zx446701/OneDrive - The Open University/Ice_Age/Fengwu_Sims_2/F322W2_grism/F322W2_Level15_Frames/jw01309023002_01101_00018_nrca5_rate_lv1.5.fits\"\n",
    "\n",
    "# F322W2 R B - trace cross-dispersion shift = 9.28123335 to 6.83300615\n",
    "# WORKS\n",
    "# file_name = \"/Users/zx446701/OneDrive - The Open University/Ice_Age/Fengwu_Sims_2/F322W2_grism/F322W2_Level15_Frames/jw01309023002_01101_00018_nrcb5_rate_lv1.5.fits\"\n",
    "\n",
    "# F322W2 C A - trace cross-dispersion shift =\n",
    "# WORKS\n",
    "# file_name = \"/Users/zx446701/OneDrive - The Open University/Ice_Age/Fengwu_Sims_2/F322W2_grism/F322W2_Level15_Frames/jw01309024001_01101_00007_nrca5_rate_lv1.5.fits\"\n",
    "\n",
    "# F322W2 C B - trace cross-dispersion shift =\n",
    "# WORKS\n",
    "# file_name = \"/Users/zx446701/OneDrive - The Open University/Ice_Age/Fengwu_Sims_2/F322W2_grism/F322W2_Level15_Frames/jw01309024001_01101_00007_nrcb5_rate_lv1.5.fits\"\n",
    "\n",
    "# F444W R A - Trace shift (-20 to -23 from direct coords)\n",
    "# WORKS\n",
    "file_name = \"/Users/zx446701/OneDrive - The Open University/Ice_Age/Fengwu_Sims_2/F444W_grism/F444W_Level15_Frames/jw01309025001_01101_00002_nrca5_rate_lv1.5.fits\"\n",
    "\n",
    "# F444W R B - trace cross-dispersion shift =\n",
    "# WORKS\n",
    "# file_name = \"/Users/zx446701/OneDrive - The Open University/Ice_Age/Fengwu_Sims_2/F444W_grism/F444W_Level15_Frames/jw01309025001_01101_00002_nrcb5_rate_lv1.5.fits\"\n",
    "\n",
    "# F444W C A - trace cross-dispersion shift =\n",
    "# WORKS\n",
    "# file_name = \"/Users/zx446701/OneDrive - The Open University/Ice_Age/Fengwu_Sims_2/F444W_grism/F444W_Level15_Frames/jw01309026001_01101_00007_nrca5_rate_lv1.5.fits\"\n",
    "\n",
    "# F444W C B - trace cross-dispersion shift = \n",
    "# \n",
    "# file_name = \"/Users/zx446701/OneDrive - The Open University/Ice_Age/Fengwu_Sims_2/F444W_grism/F444W_Level15_Frames/jw01309026001_01101_00007_nrcb5_rate_lv1.5.fits\"\n",
    "\n",
    "fits_file = apfits.open(file_name)\n",
    "data = fits_file[\"SCI\"].data\n",
    "\n",
    "# print(repr(fits_file[\"PRIMARY\"].header))\n",
    "# print(repr(fits_file[\"SCI\"].header))\n",
    "filter_ = fits_file['PRIMARY'].header['FILTER'].strip()\n",
    "# [-1] needed to extract just either R or C\n",
    "# CHANGE DIRECTION TO GRISM FOR CLARITY\n",
    "direction = fits_file['PRIMARY'].header['PUPIL'].strip()[-1]\n",
    "module = fits_file['PRIMARY'].header['MODULE'].strip()\n",
    "dither = fits_file['PRIMARY'].header['PATT_NUM']\n",
    "exposure = fits_file['PRIMARY'].header['EXPOSURE']\n",
    "# SUBPIXNUM Missing from new sims!!!\n",
    "# subpixel = Frame['PRIMARY'].header['SUBPXNUM']\n",
    "# print(filter_,direction,module)"
   ]
  },
  {
   "cell_type": "markdown",
   "id": "4b4df8a7-3259-4cd6-91d2-6f9cc76f532f",
   "metadata": {
    "tags": []
   },
   "source": [
    "## Create variables for the folders needed throughout script\n",
    "\n",
    "- Will be used for file path joining"
   ]
  },
  {
   "cell_type": "code",
   "execution_count": 3,
   "id": "edbd117a-ce9d-4c77-9697-7a7c55628129",
   "metadata": {},
   "outputs": [],
   "source": [
    "# All 192 simulated frames produced by MIRAGE - total = 192 frames as 4 observations each have 2 Grisms, 2 modules, 3 Primary Dithers each with 4 subpixel dithers.\n",
    "# Of the 4 observations 2 are with the F322W2 (Water) Filter and F444W (CO+CO2 filter), making 96 frames per filter. This is how the folders are split.\n",
    "frameFitsDir = f\"/Users/zx446701/OneDrive - The Open University/Ice_Age/Fengwu_Sims_2/{filter_}_grism/{filter_}_Level15_Frames/\"\n",
    "\n",
    "# Source list for every frame within the simulation - WANT TO CREATE OUR OWN SOURCE FROM DIRECT IMAGES\n",
    "frameListDir = f\"/Users/zx446701/OneDrive - The Open University/Ice_Age/Fengwu_Sims_2/{filter_}_grism/{filter_}_List\"\n"
   ]
  },
  {
   "cell_type": "markdown",
   "id": "6d81ddf6-0f60-4a97-b0b1-36ab4f203c8b",
   "metadata": {
    "tags": []
   },
   "source": [
    "## Import PSF model grid modules"
   ]
  },
  {
   "cell_type": "code",
   "execution_count": 4,
   "id": "768c0fd8-7de3-4ad1-98ae-05cff150a2e9",
   "metadata": {},
   "outputs": [
    {
     "name": "stderr",
     "output_type": "stream",
     "text": [
      "/Users/zx446701/opt/anaconda3/envs/astroconda/lib/python3.7/site-packages/pysynphot/locations.py:46: UserWarning: PYSYN_CDBS is undefined; functionality will be SEVERELY crippled.\n",
      "  warnings.warn(\"PYSYN_CDBS is undefined; functionality will be SEVERELY \"\n",
      "/Users/zx446701/opt/anaconda3/envs/astroconda/lib/python3.7/site-packages/pysynphot/locations.py:345: UserWarning: Extinction files not found in extinction\n",
      "  warnings.warn('Extinction files not found in %s' % (extdir, ))\n"
     ]
    },
    {
     "name": "stdout",
     "output_type": "stream",
     "text": [
      "**WARNING**: LOCAL JWST PRD VERSION PRDOPSSOC-040-001 DOESN'T MATCH THE CURRENT ONLINE VERSION PRDOPSSOC-045-003\n",
      "Please consider updating pysiaf, e.g. pip install --upgrade pysiaf or conda update pysiaf\n"
     ]
    }
   ],
   "source": [
    "# Use source code to look into utils etc.\n",
    "from webbpsf.utils import to_griddedpsfmodel\n",
    "from webbpsf.gridded_library import display_psf_grid\n",
    "# Take specific instrument, module, filter and detector PSF fits files \n",
    "# and turn into a grid of how the PSF changes with position on detector array\n",
    "# NUMBER OF DETECTOR IS IN NRCA5 - 5 IS LW DETECTOR 1-4 IS SW\n",
    "# ONLY 5 REQUIRED FOR WFSS AS ONLY DETECTOR ABLE TO DO THIS\n",
    "if filter_ == 'F322W2':\n",
    "    grid = to_griddedpsfmodel(\n",
    "        f\"/Users/zx446701/OneDrive - The Open University/Ice_Age/Fengwu Data/gridded_psf_library/nircam_nrc{module.lower()}5_{filter_.lower()}_clear_fovp47_samp5_npsf16_requirements_realization0.fits\"\n",
    "    )\n",
    "else:\n",
    "    grid = to_griddedpsfmodel(\n",
    "    f\"/Users/zx446701/OneDrive - The Open University/Ice_Age/Fengwu Data/gridded_psf_library/nircam_nrc{module.lower()}5_{filter_.lower()}_clear_fovp61_samp5_npsf16_requirements_realization0.fits\"\n",
    "    )\n",
    "    "
   ]
  },
  {
   "cell_type": "markdown",
   "id": "4b5e3bb2-e0be-4aca-b63d-08fb4bef4080",
   "metadata": {
    "tags": []
   },
   "source": [
    "# Define functions to extract the source list, along with sky and pixel coordinates within the images\n"
   ]
  },
  {
   "cell_type": "markdown",
   "id": "1a6f185f-5a63-41ba-8a55-cb25826f0bd9",
   "metadata": {
    "tags": []
   },
   "source": [
    "## Function creates pathname of input frame file and opens as a pandas dataframe \n",
    "Can I find the information for what each column represents in this file?\n",
    "\n",
    "10 columns total: \n",
    "\n",
    "Col 0: Source ID ??\n",
    "\n",
    "Col 1-4: Coords (RA and Dec in hms, dms then deg, deg)\n",
    "\n",
    "Col 5-6: Pixel Coordinates\n",
    "\n",
    "Col 7-10: No idea\n",
    "\n",
    "- Extracts name of the file from the full pathname\n",
    "        print(os.path.basename(file_name))\n",
    "- Creates list of each component of the file name SPLIT by _ (each as a string) and selects the first 4 components\n",
    "        print(os.path.basename(file_name).split('_')[:4])\n",
    "- Rejoins the 4 extracted components by JOINing them with _\n",
    "        print('_'.join(os.path.basename(file_name).split('_')[:4]))"
   ]
  },
  {
   "cell_type": "code",
   "execution_count": 5,
   "id": "8b858227-ebfb-4a5a-b03f-c842868f5eba",
   "metadata": {},
   "outputs": [],
   "source": [
    "def getSourceListForImage(image, frameListDir):\n",
    "    listPath = os.path.join(\n",
    "        frameListDir,\n",
    "        f\"{'_'.join(os.path.basename(image).split('_')[:4])}_uncal_pointsources.list\",\n",
    "    )\n",
    "    return pd.read_csv(listPath, delim_whitespace=True, comment=\"#\", header=None)"
   ]
  },
  {
   "cell_type": "markdown",
   "id": "38153dee-df2e-479d-96ca-65a3ab189d00",
   "metadata": {
    "tags": []
   },
   "source": [
    "## Function extracting Sky Coordinates from source list\n",
    "\n",
    "- Identify all the values within col 3 and 4 of pandas df\n",
    "        sourceList.loc[:, [3, 4]]\n",
    "- Turns this into a numpy array\n",
    "        sourceList.loc[:, [3, 4]].to_numpy()\n",
    "- Finally tranpose the the 2D array to a list of RA values and Dec values\n",
    "        sourceList.loc[:, [3, 4]].to_numpy().T\n",
    "- Starred list indicates 0 and 1 lists within of 2d array ([[0],[1]]) inputted here so every sources RA and Dec can be inputted and coverted into astropy SkyCoord form\n",
    "        apcoords.SkyCoord(*sourceList.loc[:, [3, 4]].to_numpy().T, frame=apcoords.ICRS, unit=apunits.deg)\n"
   ]
  },
  {
   "cell_type": "code",
   "execution_count": 6,
   "id": "5f3bf133-d9f6-4b1b-931c-ff49ee23daeb",
   "metadata": {},
   "outputs": [],
   "source": [
    "def getSourceCoordsForImage(image, frameListDir):\n",
    "    sourceList = getSourceListForImage(image, frameListDir) # Previous Function\n",
    "    coords = apcoords.SkyCoord(\n",
    "        *sourceList.loc[:, [3, 4]].to_numpy().T, frame=apcoords.ICRS, unit=apunits.deg\n",
    "    )\n",
    "    return coords"
   ]
  },
  {
   "cell_type": "markdown",
   "id": "7a5d1d1b-9fd3-4fcd-afe8-6bf2180f9cb7",
   "metadata": {
    "tags": []
   },
   "source": [
    "## Function extracting Pixel Coords from source list\n",
    "\n",
    "- Does the same as above except it does not need to transpose values as no additional conversion function needed"
   ]
  },
  {
   "cell_type": "code",
   "execution_count": 7,
   "id": "8cb6bd40-96ed-4af3-a0bd-95d5b709698b",
   "metadata": {},
   "outputs": [],
   "source": [
    "def getSourcePixelsForImage(image, frameListDir):\n",
    "    sourceList = getSourceListForImage(image, frameListDir)\n",
    "    pixels = sourceList.loc[:, [5, 6]].to_numpy()\n",
    "    \n",
    "    return pixels\n"
   ]
  },
  {
   "cell_type": "markdown",
   "id": "e3c5f778-b68e-43c8-bff3-e9b38a6c90bc",
   "metadata": {
    "tags": []
   },
   "source": [
    "# Plotting Functions"
   ]
  },
  {
   "cell_type": "markdown",
   "id": "7e1c7882-766f-4df0-9eea-da63d34bd687",
   "metadata": {
    "tags": []
   },
   "source": [
    "### This function is not used\n",
    "\n",
    "Just calculates the length and width of a trace from a given x,y pixel position "
   ]
  },
  {
   "cell_type": "code",
   "execution_count": 8,
   "id": "c073d5ad-919e-43ca-ab16-6037e8820543",
   "metadata": {
    "tags": []
   },
   "outputs": [],
   "source": [
    "def computeTrace(pixels, fac=100, filter_=\"F322W2\", module=\"A\", direction=\"R\", simYDisp=False, order=1):\n",
    "    # Locate config File for the module and grism direction \n",
    "    confFile = f\"/Users/zx446701/OneDrive - The Open University/Ice_Age/Fengwu_Sims_2/GRISM_NIRCAM-master/V3/NIRCAM_{filter_}_mod{module}_{direction}.conf\"\n",
    "    # Class to read and hold GRISM configuration info\n",
    "    conf = grismconf.Config(confFile)\n",
    "    # Found from GRISMCONF README file - see link above\n",
    "    # Middle section - number of pixels from end to start in X direction\n",
    "    # 1/ middle = slighting trace by number of pixels\n",
    "    # /fac is for splitting by subpixel amounts and oversampling\n",
    "    dt = np.abs(1 / (1 + conf.DISPX(f'+{order}', *pixels, 1) - conf.DISPX(f'+{order}', *pixels, 0)) / fac)\n",
    "    # t is the trace and how much of it is covered (0 to 1 is the full trace)\n",
    "    t = np.arange(0, 1, dt)\n",
    "\n",
    "    # DISP(X,Y,L) = DISPERSION POLYNOMIAL (X direction, Y, Full Length)\n",
    "    # order, x0, y0, steps along dispersion between 0 and 1\n",
    "    # X disp polynomial\n",
    "    dxs = conf.DISPX(f\"+{order}\" *pixels, t)\n",
    "    # Y disp polynomial \n",
    "    dys = conf.DISPY(f\"+{order}\" *pixels, t)\n",
    "    # Compute wavelength of each pixel\n",
    "    wavs = conf.DISPL(f\"+{order}\" *pixels, t)\n",
    "\n",
    "    return (\n",
    "        pixels[0] + dxs,\n",
    "        pixels[1] + dys if simYDisp else np.full_like(dys, pixels[1]),\n",
    "        wavs,\n",
    "    )"
   ]
  },
  {
   "cell_type": "markdown",
   "id": "9abd03ef-bb93-4f9c-9578-8f29f678f795",
   "metadata": {
    "tags": []
   },
   "source": [
    "### Function returning the pixels and wavelengths of those pixels of a source dispersed in the R direction\n"
   ]
  },
  {
   "cell_type": "code",
   "execution_count": 9,
   "id": "0c3206b7-7977-4153-b282-2fe79cfb062a",
   "metadata": {},
   "outputs": [],
   "source": [
    "def computeTraceWLR(pixels, filter_=\"F322W2\", module=\"A\", simYDisp=False, order=1):\n",
    "    # Locate config File for the filter, module and grism direction \n",
    "    confFile = f\"/Users/zx446701/OneDrive - The Open University/Ice_Age/Fengwu_Sims_2/GRISM_NIRCAM-master/V3/NIRCAM_{filter_}_mod{module}_R.conf\"\n",
    "    # Class to read and hold GRISM configuration info\n",
    "    conf = grismconf.Config(confFile)\n",
    "\n",
    "    # dt = 1/(conf.DISPX(f'+{order}', *pixels,0)-conf.DISPX(f'+{order}', *pixels,1)) / fac\n",
    "    # t = np.arange(0,1,dt)\n",
    "\n",
    "    # \n",
    "    dxs0 = conf.DISPX(f'+{order}',*pixels, 0)\n",
    "\n",
    "    #\n",
    "    dxs1 = conf.DISPX(f'+{order}', *pixels, 1)\n",
    "    \n",
    "    # np.floor rounds to lower value\n",
    "    # np.ceil rounds to higher value\n",
    "    # Want this so full trace is picked up in all pixels\n",
    "    if module == \"A\":\n",
    "    # FOR MODULE A IN DIRECTION R\n",
    "    # +1 REQUIRED DUE TO ARANGE NEEDING TO INCLUDE LAST TRACE PIXEL NUMBER\n",
    "        dxs = np.arange(np.floor(dxs0),np.ceil(dxs1)+1).astype(int)\n",
    "\n",
    "    else:\n",
    "        # if dxs is decreasing then switch floor and ceil\n",
    "        dxs = np.arange(np.floor(dxs1),np.ceil(dxs0)+1).astype(int)\n",
    "    \n",
    "    ts = conf.INVDISPX(f'+{order}',*pixels,dxs)\n",
    "    \n",
    "    dys = conf.DISPY(f'+{order}',*pixels,ts)\n",
    "\n",
    "    wavs = conf.DISPL(f'+{order}',*pixels,ts)\n",
    "    \n",
    "    return (\n",
    "        pixels[0] + dxs,\n",
    "        pixels[1] + dys,\n",
    "        wavs,\n",
    "    )"
   ]
  },
  {
   "cell_type": "markdown",
   "id": "2f28306f-b405-4cdf-b6b4-eb8b7f3f14a8",
   "metadata": {},
   "source": [
    "### Function returning the pixels and wavelengths of those pixels of a source dispersed in the C direction\n"
   ]
  },
  {
   "cell_type": "code",
   "execution_count": 10,
   "id": "5847c09f-ebc2-4235-a78f-78e011d7abfe",
   "metadata": {},
   "outputs": [],
   "source": [
    "def computeTraceWLC(\n",
    "    pixels,\n",
    "    filter_=\"F322W2\",\n",
    "    module=\"A\",\n",
    "    simYDisp=False,\n",
    "    order=1\n",
    "):\n",
    "    \n",
    "    # Locate config File for the filter, module and grism direction \n",
    "    confFile = f\"/Users/zx446701/OneDrive - The Open University/Ice_Age/Fengwu_Sims_2/GRISM_NIRCAM-master/V3/NIRCAM_{filter_}_mod{module}_C.conf\"\n",
    "    # Class to read and hold GRISM configuration info\n",
    "    conf = grismconf.Config(confFile)\n",
    "    # Found from GRISMCONF README file - see link above\n",
    "\n",
    "\n",
    "    # dt = 1/(conf.DISPX(f'+{order}', *pixels,0)-conf.DISPX(f'+{order}', *pixels,1)) / fac\n",
    "    # t = np.arange(0,1,dt)\n",
    "\n",
    "    dys0 = conf.DISPY(f'+{order}',*pixels, 0)\n",
    "\n",
    "    dys1 = conf.DISPY(f'+{order}', *pixels, 1)\n",
    "    \n",
    "    # np.floor rounds to lower value\n",
    "    # np.ceil rounds to higher value\n",
    "    # Want this so full trace is picked up in all pixels\n",
    "    \n",
    "    dys = np.arange(np.floor(dys0),np.ceil(dys1)+1).astype(int)\n",
    "\n",
    "    ts = conf.INVDISPY(f'+{order}',*pixels,dys)\n",
    "    \n",
    "    dxs = conf.DISPX(f'+{order}',*pixels,ts)\n",
    "\n",
    "    wavs = conf.DISPL(f'+{order}',*pixels,ts)\n",
    "\n",
    "    \n",
    "    return (\n",
    "        pixels[0] + dxs,\n",
    "        pixels[1] + dys,\n",
    "        wavs,\n",
    "    )"
   ]
  },
  {
   "cell_type": "markdown",
   "id": "5b93fd9b-b39a-427d-8acf-2ecede757f1e",
   "metadata": {},
   "source": [
    "### Function to choose between R or C wavelengths required"
   ]
  },
  {
   "cell_type": "code",
   "execution_count": 11,
   "id": "e785d28e-a88c-40c1-aec1-f325555791c1",
   "metadata": {},
   "outputs": [],
   "source": [
    "def computeTraceWL(\n",
    "    pixels,\n",
    "    filter_=\"F322W2\",\n",
    "    module=\"A\",\n",
    "    direction=\"R\",\n",
    "    simYDisp=False,\n",
    "    order=1\n",
    "):\n",
    "    if direction == \"R\":\n",
    "        return computeTraceWLR(pixels=pixels,filter_=filter_,module=module,simYDisp=simYDisp,order=order)\n",
    "    else:\n",
    "        return computeTraceWLC(pixels=pixels,filter_=filter_,module=module,simYDisp=simYDisp,order=order)"
   ]
  },
  {
   "cell_type": "markdown",
   "id": "85f0ce8a-803e-4f46-9af0-53ff22269e87",
   "metadata": {
    "tags": []
   },
   "source": [
    "### Function to calculate the trace box of a source dispersed in the R direction"
   ]
  },
  {
   "cell_type": "code",
   "execution_count": 12,
   "id": "f2a3825b-4951-49e6-af81-f917938514ed",
   "metadata": {},
   "outputs": [],
   "source": [
    "def computeTraceBoxR(\n",
    "    # Pixels of source being traced (x0, y0)\n",
    "    pixels,\n",
    "    # Not sure this is needed\n",
    "    fac=100,\n",
    "    # Change filter depending on filter used for observation\n",
    "    filter_=\"F322W2\", \n",
    "    # Change module depending on module used for observation\n",
    "    module=\"A\",\n",
    "    # Is this needed?\n",
    "    simYDisp=False,\n",
    "    # Box around expected trace \n",
    "    returnRect=True,\n",
    "    # Height 50 pixels as PSF modelled 50x50 pixels\n",
    "    cross_disp_size=50,\n",
    "    # Set Order desired to be computed for\n",
    "    order=1,\n",
    "    # Need some guidance on what this is !\n",
    "    **patchkws,\n",
    "):\n",
    "    confFile = f\"/Users/zx446701/OneDrive - The Open University/Ice_Age/Fengwu_Sims_2/GRISM_NIRCAM-master/V3/NIRCAM_{filter_}_mod{module}_R.conf\"\n",
    "    conf = grismconf.Config(confFile)\n",
    "    # X and Y disp polynomials with 2 steps, the start [0] and end [1] of the trace\n",
    "    dxs = conf.DISPX(f'+{order}', *pixels, np.array([0, 1]))\n",
    "    # Keep in in case the JWST dispersion is curved and we need to trace the change in the curve\n",
    "    dys = conf.DISPY(f'+{order}', *pixels, np.array([0, 1]))\n",
    "    \n",
    "    # Locating the centre of the trace in dispersion direction [0.5]\n",
    "    centrePix_X = conf.DISPX(f'+{order}', *pixels, np.array([0.5]))\n",
    "    \n",
    "    # Locating Cross-dispersion centre of the trace\n",
    "    centrePix_Y = conf.DISPY(f'+{order}', *pixels, np.array([0.5]))\n",
    "\n",
    "    # Slight Rotation of tracebox due to slant in trace\n",
    "    angle = np.rad2deg(np.arctan((dys[1]-dys[0])/(dxs[1]-dxs[0])))\n",
    "    \n",
    "    if returnRect:\n",
    "#         mplplot.scatter(pixels[0]+centrePix[0], pixels[1],c='green')\n",
    "        return mplpatches.Rectangle(\n",
    "            # x0,y0 in bottom left of rectangle\n",
    "            (pixels[0] + dxs[0], pixels[1] + dys[0] - (cross_disp_size // 2)),\n",
    "            # width of rectangle \n",
    "            dxs[1] - dxs[0],\n",
    "            # height of box (PSF width 50 pixels)\n",
    "            cross_disp_size,\n",
    "            # Slight Rotation of tracebox due to slant in trace\n",
    "            angle=angle,\n",
    "            **patchkws,\n",
    "        )\n",
    "    # Returns Central x and y of trace and dimensions of tracebox (height, width)\n",
    "    return (pixels[0]+centrePix_X[0], pixels[1]+centrePix_Y[0]), (cross_disp_size, abs(dxs[1] - dxs[0]))\n",
    "\n"
   ]
  },
  {
   "cell_type": "markdown",
   "id": "d1fdd58f-7b3c-4d2e-9ebe-0c2f9bda9dfd",
   "metadata": {
    "tags": []
   },
   "source": [
    "### Function to calculate the trace box of a source dispersed in the C direction"
   ]
  },
  {
   "cell_type": "code",
   "execution_count": 13,
   "id": "716ee01f-10f4-4972-9f40-62922a72cc6c",
   "metadata": {},
   "outputs": [],
   "source": [
    "def computeTraceBoxC(\n",
    "    # Pixels of source being traced (x0, y0)\n",
    "    pixels,\n",
    "    # Not sure this is needed\n",
    "    fac=100,\n",
    "    # Change filter depending on filter used for observation\n",
    "    filter_=\"F322W2\",\n",
    "    # Change module depending on module used for observation\n",
    "    module=\"A\",\n",
    "    # Is this needed?\n",
    "    simYDisp=False,\n",
    "    # Box around expected trace \n",
    "    returnRect=True,\n",
    "    # Height 50 pixels as PSF modelled 50x50 pixels\n",
    "    cross_disp_size=50,\n",
    "    # Set Order desired to be computed for\n",
    "    order=1,\n",
    "    # Need some guidance on what this is !\n",
    "    **patchkws,\n",
    "):\n",
    "    confFile = f\"/Users/zx446701/OneDrive - The Open University/Ice_Age/Fengwu_Sims_2/GRISM_NIRCAM-master/V3/NIRCAM_{filter_}_mod{module}_C.conf\"\n",
    "    conf = grismconf.Config(confFile)\n",
    "    # X and Y disp polynomials with 2 steps, the start and end of the trace\n",
    "    dxs = conf.DISPX(f'+{order}', *pixels, np.array([0, 1]))\n",
    "    # Keep in in case the JWST dispersion is curved and we need to trace the change in the curve\n",
    "    dys = conf.DISPY(f'+{order}', *pixels, np.array([0, 1]))\n",
    "    \n",
    "    # Locating the centre of the trace in dispersion direction\n",
    "    centrePix_Y = conf.DISPY(f'+{order}', *pixels, np.array([0.5]))\n",
    "    \n",
    "    # Locating the centre of the trace in CROSS-dispersion direction\n",
    "    centrePix_X = conf.DISPX(f'+{order}', *pixels, np.array([0.5]))\n",
    "    \n",
    "    # Slight Rotation of tracebox due to slant in trace\n",
    "    angle = np.rad2deg(np.arctan((dxs[1]-dxs[0])/(dys[1]-dys[0])))\n",
    "    \n",
    "    if returnRect:\n",
    "#         mplplot.scatter(pixels[0]+centrePix[0], pixels[1],c='green')\n",
    "        return mplpatches.Rectangle(\n",
    "            # x0,y0 in bottom left of rectangle\n",
    "            (pixels[0] + dxs[0] - cross_disp_size // 2, pixels[1] + dys[0]),\n",
    "            # width of rectangle \n",
    "            cross_disp_size,\n",
    "            # height of box (PSF width 50 pixels)\n",
    "            dys[1] - dys[0],\n",
    "            # Slight Rotation of tracebox due to slant in trace\n",
    "            angle=angle,\n",
    "            **patchkws,\n",
    "        )\n",
    "    # source Y pos + central Y pix of trace length, same but for X, PSF width (50 pix), trace length (~1365)\n",
    "    return (pixels[1]+centrePix_Y[0], pixels[0]+centrePix_X[0]), (cross_disp_size, abs(dys[1] - dys[0]))\n"
   ]
  },
  {
   "cell_type": "markdown",
   "id": "10575fa1-50ef-4344-92eb-0de2871f049f",
   "metadata": {
    "tags": []
   },
   "source": [
    "### Function to choose between R or C trace box required"
   ]
  },
  {
   "cell_type": "code",
   "execution_count": 14,
   "id": "2c9d8406-575b-4374-b5bf-884d437d3877",
   "metadata": {},
   "outputs": [],
   "source": [
    "def computeTraceBox(\n",
    "    # Pixels of source being traced (x0, y0)\n",
    "    pixels,\n",
    "    # Not sure this is needed\n",
    "    fac=100,\n",
    "    # Change filter depending on filter used for observation\n",
    "    filter_=\"F322W2\",\n",
    "    # Change module depending on module used for observation\n",
    "    module=\"A\",\n",
    "    # Change Direction depending on disperser used for observation\n",
    "    direction=\"R\",\n",
    "    # Is this needed?\n",
    "    simYDisp=False,\n",
    "    # Box around expected trace \n",
    "    returnRect=True,\n",
    "    # Height 50 pixels as PSF modelled 50x50 pixels\n",
    "    cross_disp_size=50,\n",
    "    # Set Order desired to be computed for\n",
    "    order=1,\n",
    "    # Need some guidance on what this is !\n",
    "    **patchkws,\n",
    "):\n",
    "    if direction == \"R\":\n",
    "        return computeTraceBoxR(pixels=pixels,fac=fac,filter_=filter_,module=module,simYDisp=simYDisp,returnRect=returnRect,cross_disp_size=cross_disp_size,order=order,**patchkws)\n",
    "    else:\n",
    "        return computeTraceBoxC(pixels=pixels,fac=fac,filter_=filter_,module=module,simYDisp=simYDisp,returnRect=returnRect,cross_disp_size=cross_disp_size,order=order,**patchkws)"
   ]
  },
  {
   "cell_type": "markdown",
   "id": "e08ed6af-7686-4b2d-9c69-c36537ba38f9",
   "metadata": {
    "tags": []
   },
   "source": [
    "### Function returning Trace Box of 1st Order dispersions "
   ]
  },
  {
   "cell_type": "code",
   "execution_count": 15,
   "id": "ea74db58-9992-4cb3-8cab-459d06aa6fe4",
   "metadata": {},
   "outputs": [],
   "source": [
    "def compute1stOrderTraceBox(\n",
    "    # Pixels of source being traced (x0, y0)\n",
    "    pixels,\n",
    "    # Not sure this is needed\n",
    "    fac=100,\n",
    "    # Change filter depending on filter used for observation\n",
    "    filter_=\"F322W2\",\n",
    "    # Change module depending on module used for observation\n",
    "    module=\"A\",\n",
    "    # Change Direction depending on disperser used for observation\n",
    "    direction=\"R\",\n",
    "    # Is this needed?\n",
    "    simYDisp=False,\n",
    "    # Box around expected trace \n",
    "    returnRect=True,\n",
    "    # Height 50 pixels as PSF modelled 50x50 pixels\n",
    "    cross_disp_size=50,\n",
    "    # Need some guidance on what this is !\n",
    "    **patchkws,\n",
    "):\n",
    "    return computeTraceBox(pixels,fac,filter_,module,direction,simYDisp,returnRect,cross_disp_size,1,**patchkws)"
   ]
  },
  {
   "cell_type": "markdown",
   "id": "97c6145a-b117-4db1-9f9b-acfe037984fe",
   "metadata": {
    "tags": []
   },
   "source": [
    "### Function returning Trace Box of 2nd Order dispersions "
   ]
  },
  {
   "cell_type": "code",
   "execution_count": 16,
   "id": "df8978db-39ed-4f8b-90cf-dadda454eb6a",
   "metadata": {},
   "outputs": [],
   "source": [
    "def compute2ndOrderTraceBox(\n",
    "    # Pixels of source being traced (x0, y0)\n",
    "    pixels,\n",
    "    # Not sure this is needed\n",
    "    fac=100,\n",
    "    # Change filter depending on filter used for observation\n",
    "    filter_=\"F322W2\",\n",
    "    # Change module depending on module used for observation\n",
    "    module=\"A\",\n",
    "    # Change Direction depending on disperser used for observation\n",
    "    direction=\"R\",\n",
    "    # Is this needed?\n",
    "    simYDisp=False,\n",
    "    # Box around expected trace \n",
    "    returnRect=True,\n",
    "    # Height 50 pixels as PSF modelled 50x50 pixels\n",
    "    cross_disp_size=50,\n",
    "    # Need some guidance on what this is !\n",
    "    **patchkws,\n",
    "):\n",
    "    if filter_ == \"F322W2\":\n",
    "        return computeTraceBox(pixels,fac,filter_,module,direction,simYDisp,returnRect,cross_disp_size,2,**patchkws)\n",
    "    else:\n",
    "        print(\"You have made an error. 2nd Order spectra only occur in F332W2 frames. Please comment out patch.\")"
   ]
  },
  {
   "cell_type": "markdown",
   "id": "401d11b7-f9cb-4230-8443-9308bb02964e",
   "metadata": {},
   "source": [
    "## Trim Offset Function\n",
    "\n",
    "Calculates the maximum cross-dispersion offset for a trace in either the first or 2nd order to allow for traces of both orders to be included within the bounds of the in-frame sources dataframe.\n",
    "\n",
    "Absolute values required to be taken as offsets can be minus numbers"
   ]
  },
  {
   "cell_type": "code",
   "execution_count": 20,
   "id": "f2faa1fe-c358-4a26-bf04-3c34f174d9e2",
   "metadata": {},
   "outputs": [],
   "source": [
    "def TrimOffsetFunc(conf,direction):\n",
    "    if direction ==\"R\":\n",
    "        return np.amax([abs(conf._DISPY_data[f\"+{o}\"]) for o in range(1,3)])\n",
    "    else:\n",
    "        return np.amax([abs(conf._DISPX_data[f\"+{o}\"]) for o in range(1,3)])"
   ]
  }
 ],
 "metadata": {
  "kernelspec": {
   "display_name": "Python 3 (ipykernel)",
   "language": "python",
   "name": "python3"
  },
  "language_info": {
   "codemirror_mode": {
    "name": "ipython",
    "version": 3
   },
   "file_extension": ".py",
   "mimetype": "text/x-python",
   "name": "python",
   "nbconvert_exporter": "python",
   "pygments_lexer": "ipython3",
   "version": "3.7.11"
  }
 },
 "nbformat": 4,
 "nbformat_minor": 5
}
