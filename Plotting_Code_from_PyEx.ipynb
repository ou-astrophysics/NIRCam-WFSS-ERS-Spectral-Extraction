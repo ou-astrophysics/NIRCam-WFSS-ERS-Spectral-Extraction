{
 "cells": [
  {
   "cell_type": "markdown",
   "id": "70afb78f-6895-4171-bc90-f02b51fddb04",
   "metadata": {},
   "source": [
    "ln 344 in exec file"
   ]
  },
  {
   "cell_type": "code",
   "execution_count": 1,
   "id": "d54a3ebc-24cc-4269-863b-2206c34f2650",
   "metadata": {
    "collapsed": true,
    "jupyter": {
     "outputs_hidden": true
    },
    "tags": []
   },
   "outputs": [
    {
     "data": {
      "text/plain": [
       "'\\nwith apfits.open(imageFits) as test:\\n    figure = mplplot.figure(figsize=(10, 10))\\n    ax = figure.add_subplot(1, 1, 1, projection=apwcs.WCS(test[\"SCI\"].header))    \\n    ax.imshow(\\n        # SCI is the images from the simulation\\n        test[\"SCI\"].data,\\n        norm=apvis.ImageNormalize(\\n            stretch=apvis.HistEqStretch(data=test[\"SCI\"].data),\\n            interval=apvis.ZScaleInterval(),\\n        ),\\n        cmap=\"Greys\",\\n    )\\n        \\n    # Set image limits\\n    xlim = ax.get_xlim()\\n    ylim = ax.get_ylim()\\n    \\n#     sourceCoords = getSourceCoordsForImage(imageFits, frameListDir)\\n        \\n         # Plot sources on FOV\\n    ax.scatter(\\n        sourceCoords.ra,\\n        sourceCoords.dec,\\n        marker=\"x\",\\n        c=\"r\",\\n        transform=ax.get_transform(\"world\"),\\n    )\\n    ax.set_title(os.path.basename(imageFits))\\n        \\n#     directPixels = getSourcePixelsForImage(imageFits, frameListDir)\\n#     print(imageFits, directPixels[24],directPixels[77] if len(directPixels) > 50 else \"Short\")\\n        \\n    # for loop to create trace boxes for each source within source list\\n    # HOW DO WE CHANGE FOR C DIRECTION?? NEED TO LOAD C DATA???\\n    # where is sourceId defined? Within imageFits???\\n    for sourceId, directPixel in enumerate(directPixels):\\n        traceBox1st = compute1stOrderTraceBox(\\n            directPixel,\\n            module=os.path.basename(imageFits).split(\"_\")[3][-2].upper(),\\n            direction=\"R\",\\n            ec=\"orange\",\\n            #ec=\"orange\",\\n            lw=\"2\",\\n            fc=\"none\",\\n        )\\n        ax.add_patch(traceBox1st)\\n        \\n        traceBox2nd = compute2ndOrderTraceBox(\\n            directPixel,\\n            module=os.path.basename(imageFits).split(\"_\")[3][-2].upper(),\\n            direction=\"R\",\\n            ec=\"blue\",\\n            #ec=\"orange\",\\n            lw=\"2\",\\n            fc=\"none\",\\n        )\\n        ax.add_patch(traceBox2nd)\\n        # Removing limits shows that all sources in list have traces calculated for them\\n        # Therefore missing traces must be due to them missing in source list which\\n        # will not be a problem once NIRCam Pre-imaging has been achieved\\n    ax.set_xlim(xlim)\\n    ax.set_ylim(ylim)\\n'"
      ]
     },
     "execution_count": 1,
     "metadata": {},
     "output_type": "execute_result"
    }
   ],
   "source": [
    "\"\"\"\n",
    "with apfits.open(imageFits) as test:\n",
    "    figure = mplplot.figure(figsize=(10, 10))\n",
    "    ax = figure.add_subplot(1, 1, 1, projection=apwcs.WCS(test[\"SCI\"].header))    \n",
    "    ax.imshow(\n",
    "        # SCI is the images from the simulation\n",
    "        test[\"SCI\"].data,\n",
    "        norm=apvis.ImageNormalize(\n",
    "            stretch=apvis.HistEqStretch(data=test[\"SCI\"].data),\n",
    "            interval=apvis.ZScaleInterval(),\n",
    "        ),\n",
    "        cmap=\"Greys\",\n",
    "    )\n",
    "        \n",
    "    # Set image limits\n",
    "    xlim = ax.get_xlim()\n",
    "    ylim = ax.get_ylim()\n",
    "    \n",
    "#     sourceCoords = getSourceCoordsForImage(imageFits, frameListDir)\n",
    "        \n",
    "         # Plot sources on FOV\n",
    "    ax.scatter(\n",
    "        sourceCoords.ra,\n",
    "        sourceCoords.dec,\n",
    "        marker=\"x\",\n",
    "        c=\"r\",\n",
    "        transform=ax.get_transform(\"world\"),\n",
    "    )\n",
    "    ax.set_title(os.path.basename(imageFits))\n",
    "        \n",
    "#     directPixels = getSourcePixelsForImage(imageFits, frameListDir)\n",
    "#     print(imageFits, directPixels[24],directPixels[77] if len(directPixels) > 50 else \"Short\")\n",
    "        \n",
    "    # for loop to create trace boxes for each source within source list\n",
    "    # HOW DO WE CHANGE FOR C DIRECTION?? NEED TO LOAD C DATA???\n",
    "    # where is sourceId defined? Within imageFits???\n",
    "    for sourceId, directPixel in enumerate(directPixels):\n",
    "        traceBox1st = compute1stOrderTraceBox(\n",
    "            directPixel,\n",
    "            module=os.path.basename(imageFits).split(\"_\")[3][-2].upper(),\n",
    "            direction=\"R\",\n",
    "            ec=\"orange\",\n",
    "            #ec=\"orange\",\n",
    "            lw=\"2\",\n",
    "            fc=\"none\",\n",
    "        )\n",
    "        ax.add_patch(traceBox1st)\n",
    "        \n",
    "        traceBox2nd = compute2ndOrderTraceBox(\n",
    "            directPixel,\n",
    "            module=os.path.basename(imageFits).split(\"_\")[3][-2].upper(),\n",
    "            direction=\"R\",\n",
    "            ec=\"blue\",\n",
    "            #ec=\"orange\",\n",
    "            lw=\"2\",\n",
    "            fc=\"none\",\n",
    "        )\n",
    "        ax.add_patch(traceBox2nd)\n",
    "        # Removing limits shows that all sources in list have traces calculated for them\n",
    "        # Therefore missing traces must be due to them missing in source list which\n",
    "        # will not be a problem once NIRCam Pre-imaging has been achieved\n",
    "    ax.set_xlim(xlim)\n",
    "    ax.set_ylim(ylim)\n",
    "\"\"\""
   ]
  },
  {
   "cell_type": "markdown",
   "id": "4f3fc4c1-949e-47e7-add7-35d175572f38",
   "metadata": {},
   "source": [
    "ln 669 in exec file"
   ]
  },
  {
   "cell_type": "code",
   "execution_count": null,
   "id": "d213f8c0-14ec-450c-a076-cd5483eeb572",
   "metadata": {},
   "outputs": [],
   "source": [
    "\"\"\"\n",
    "with apfits.open(imageFits) as test:\n",
    "    mplplot.figure(figsize=(10,10))\n",
    "    mplplot.imshow(result[trimmed_dfxLowToHigh.sort_values(\"Direct_Y\").index], aspect=\"auto\")\n",
    "    figure = mplplot.figure(figsize=(10, 10))\n",
    "    ax = figure.add_subplot(1, 1, 1, projection=apwcs.WCS(test[\"SCI\"].header))    \n",
    "    ax.imshow(\n",
    "        # SCI is the images from the simulation\n",
    "        test[\"SCI\"].data,\n",
    "        norm=apvis.ImageNormalize(\n",
    "            stretch=apvis.HistEqStretch(data=test[\"SCI\"].data),\n",
    "            interval=apvis.ZScaleInterval(),\n",
    "        ),\n",
    "        cmap=\"Greys\",\n",
    "    )\n",
    "    # Set image limits\n",
    "    xlim = ax.get_xlim()\n",
    "    ylim = ax.get_ylim()\n",
    "    \n",
    "    ax.scatter(\n",
    "        sourceCoords.ra,\n",
    "        sourceCoords.dec,\n",
    "        marker=\"x\",\n",
    "        c=\"r\",\n",
    "        transform=ax.get_transform(\"world\"),\n",
    "    )\n",
    "    ax.set_title(os.path.basename(imageFits))\n",
    "        \n",
    "#     directPixels = getSourcePixelsForImage(imageFits, frameListDir)\n",
    "    print(imageFits, directPixels[24],directPixels[77] if len(directPixels) > 50 else \"Short\")\n",
    "        \n",
    "    # for loop to create trace boxes for each source within source list\n",
    "    # HOW DO WE CHANGE FOR C DIRECTION?? NEED TO LOAD C DATA???\n",
    "    # where is sourceId defined? Within imageFits???\n",
    "    for sourceId, directPixel in enumerate(directPixels):\n",
    "        traceBox1st = compute1stOrderTraceBox(\n",
    "            directPixel,\n",
    "            module=os.path.basename(imageFits).split(\"_\")[3][-2].upper(),\n",
    "            direction=\"R\",\n",
    "            ec=\"orange\",\n",
    "            #ec=\"orange\",\n",
    "            lw=\"2\",\n",
    "            fc=\"none\",\n",
    "        )\n",
    "        \n",
    "        traceBox2nd = compute2ndOrderTraceBox(\n",
    "            directPixel,\n",
    "            module=os.path.basename(imageFits).split(\"_\")[3][-2].upper(),\n",
    "            direction=\"R\",\n",
    "            ec=\"blue\",\n",
    "            #ec=\"orange\",\n",
    "            lw=\"2\",\n",
    "            fc=\"none\",\n",
    "        )\n",
    "        \n",
    "        ax.add_patch(traceBox1st)\n",
    "#         ax.add_patch(traceBox2nd)\n",
    "    \n",
    "    ax.set_xlim(xlim)\n",
    "    ax.set_ylim(ylim)\n",
    "\"\"\""
   ]
  },
  {
   "cell_type": "markdown",
   "id": "e008ce60-5209-4727-8fbb-d9417fdbc5d5",
   "metadata": {},
   "source": [
    "ln 614 \n"
   ]
  },
  {
   "cell_type": "code",
   "execution_count": null,
   "id": "1a12acf0-f6e2-45bc-960c-c0035db55a98",
   "metadata": {},
   "outputs": [],
   "source": [
    "\"\"\"\n",
    "with apfits.open(imageFits) as test:\n",
    "    data = test[\"SCI\"].data\n",
    "#     print(trimmed_dfx1stLowToHigh.loc[11,\"Direct_Y\"])\n",
    "    for source in range(len(trimmed_dfxLowToHigh['Direct_Y'])):\n",
    "        test_trace_input_data = np.sum(data[int(trimmed_dfxLowToHigh.loc[source,\"Direct_Y\"])-2 : int(trimmed_dfxLowToHigh.loc[source,\"Direct_Y\"])+2],axis=0)\n",
    "        mplplot.figure(source)\n",
    "        mplplot.plot(test_trace_input_data, label=\"Data\")\n",
    "        mplplot.plot(result[source],label='Fit')\n",
    "        mplplot.plot(data[int(trimmed_dfxLowToHigh.Direct_Y[source])],label='Init Params')\n",
    "        mplplot.xlabel(\"Column Number\")\n",
    "        mplplot.ylabel(\"ADU (e$^{-1}$)\")\n",
    "        mplplot.title(f\"Trace Number {source}\")\n",
    "        mplplot.legend()\n",
    "        if test_trace_input_data.max() > 20:\n",
    "            mplplot.ylim(0,1.5)\n",
    "# See slight differences from data to fits as fit is from 25 rows where as data is sum of 4 rows across all columns\n",
    "# Sharp peak at ~1400 unknown why this is happening (could be simulated CR hit)\n",
    "# Added original errors and see more sudden unexpected peaks but fit still moved from initial params\n",
    "\n",
    "\"\"\""
   ]
  }
 ],
 "metadata": {
  "kernelspec": {
   "display_name": "Python 3 (ipykernel)",
   "language": "python",
   "name": "python3"
  },
  "language_info": {
   "codemirror_mode": {
    "name": "ipython",
    "version": 3
   },
   "file_extension": ".py",
   "mimetype": "text/x-python",
   "name": "python",
   "nbconvert_exporter": "python",
   "pygments_lexer": "ipython3",
   "version": "3.7.11"
  }
 },
 "nbformat": 4,
 "nbformat_minor": 5
}
