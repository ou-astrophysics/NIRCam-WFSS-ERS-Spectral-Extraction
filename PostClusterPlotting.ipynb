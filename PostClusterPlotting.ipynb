{
 "cells": [
  {
   "cell_type": "markdown",
   "id": "4ebdb799-8e86-48f0-bdcf-873758549fe6",
   "metadata": {},
   "source": [
    "# Import Packages"
   ]
  },
  {
   "cell_type": "code",
   "execution_count": null,
   "id": "44022b11-4e9b-421a-9669-8dc53613edff",
   "metadata": {},
   "outputs": [],
   "source": []
  },
  {
   "cell_type": "markdown",
   "id": "380f963a-d6a4-440d-9ee0-87901c856946",
   "metadata": {},
   "source": [
    "# Upload files from cluster"
   ]
  },
  {
   "cell_type": "code",
   "execution_count": null,
   "id": "78bca257-5920-4bd5-b1eb-25434ed743e9",
   "metadata": {},
   "outputs": [],
   "source": []
  },
  {
   "cell_type": "markdown",
   "id": "d14f056d-5311-4dc9-8598-d80345e5cc5c",
   "metadata": {},
   "source": [
    "# Convergence Checks"
   ]
  },
  {
   "cell_type": "markdown",
   "id": "c30b1626-ed7b-464e-a83d-a7f6f606deae",
   "metadata": {},
   "source": [
    "Covergence Tests:\n",
    "   - First check was \"Status\" and \"message\" which seemed to look okay \n",
    "   - Then checked \"nit\" (number of iterations the fit was performing) and saw this was mostly 0 - not fitting!\n",
    "   - We plotted a single input spectra, its inital params and the fit to see that the fit and initial param spectra were basically identical\n",
    "   - So originally, it looked like good fits as we initialised our values with a spectral shape \n",
    "   - Checked how errors change (made make-shift errors to ensure relatively sensible errors)\n",
    "   - How many steps taken whilst fitting the initial params to the data - test whether the fit was moving\n",
    "   - Created histogram of the differences between initial parameters compared to fitted - to check the fits were moving\n",
    "   - Plotting fit vs initial params to check gradient is not zero (same as checking jacobians in results !!)\n",
    "    "
   ]
  },
  {
   "cell_type": "code",
   "execution_count": null,
   "id": "1ddd51b8-b2e2-461a-b705-d3fa11afe3a1",
   "metadata": {},
   "outputs": [],
   "source": [
    "fit_results_1D = []\n",
    "for fit_result in fit_results:\n",
    "    fit_results_1D.append(fit_result.x)\n",
    "    \n",
    "fit_results_1D = np.concatenate(fit_results_1D)\n",
    "    \n",
    "all_columns_initial_params_1D = np.concatenate(all_columns_initial_params)\n",
    "\n",
    "mplplot.scatter(fit_results_1D,all_columns_initial_params_1D)\n",
    "mplplot.xlabel(\"Fit Results\")\n",
    "mplplot.ylabel(\"Initial Parameters\")\n",
    "mplplot.title(\"Fit Vs. Initial Parameters Plot \")"
   ]
  },
  {
   "cell_type": "markdown",
   "id": "d0e35fac-cc3b-4cca-846a-2a5240071462",
   "metadata": {},
   "source": [
    "# Testing fitted Spectra against original input\n",
    "\n",
    "LONG OUTPUTS"
   ]
  },
  {
   "cell_type": "code",
   "execution_count": null,
   "id": "e0565003-32cd-4396-9f43-6ae9ca4cbc5f",
   "metadata": {},
   "outputs": [],
   "source": [
    "with apfits.open(file_name) as test:\n",
    "    data = test[\"SCI\"].data.T\n",
    "    display(trimmed_dfxLowToHigh.index)\n",
    "#     print(trimmed_dfx1stLowToHigh.loc[11,\"Direct_Y\"])\n",
    "    for source in range(len(trimmed_dfxLowToHigh['Direct_X'])):\n",
    "        test_trace_input_data = np.sum(data[int(trimmed_dfxLowToHigh.loc[source,\"Direct_X\"])-2 : int(trimmed_dfxLowToHigh.loc[source,\"Direct_X\"])+2],axis=0)\n",
    "        mplplot.figure(source)\n",
    "        mplplot.plot(test_trace_input_data, label=\"Data\")\n",
    "        mplplot.plot(result[source],label='Fit')\n",
    "        mplplot.plot(data[int(trimmed_dfxLowToHigh.Direct_X[source])],label='Init Params')\n",
    "        mplplot.xlabel(\"Column Number\")\n",
    "        mplplot.ylabel(\"ADU (e$^{-1}$)\")\n",
    "        mplplot.title(f\"Trace Number {source}\")\n",
    "        mplplot.legend()\n",
    "        if test_trace_input_data.max() > 20:\n",
    "            mplplot.ylim(0,1.5)\n",
    "# See slight differences from data to fits as fit is from 25 rows where as data is sum of 4 rows across all columns\n",
    "# Sharp peak at ~1400 unknown why this is happening (could be simulated CR hit)\n",
    "# Added original errors and see more sudden unexpected peaks but fit still moved from initial params"
   ]
  },
  {
   "cell_type": "markdown",
   "id": "f68e4a4f-fdaf-4502-bff2-2596d84fa319",
   "metadata": {},
   "source": [
    "# WHAT IS THIS DOING AGAIN?"
   ]
  },
  {
   "cell_type": "code",
   "execution_count": 2,
   "id": "de7622c3-1dfb-4b41-9103-0d78853cdc71",
   "metadata": {},
   "outputs": [
    {
     "ename": "NameError",
     "evalue": "name 'fit_results' is not defined",
     "output_type": "error",
     "traceback": [
      "\u001b[0;31m---------------------------------------------------------------------------\u001b[0m",
      "\u001b[0;31mNameError\u001b[0m                                 Traceback (most recent call last)",
      "\u001b[0;32m/var/folders/xs/rrtq8y917gd4g_23l_nhkf_dq733_x/T/ipykernel_24228/2718601249.py\u001b[0m in \u001b[0;36m<module>\u001b[0;34m\u001b[0m\n\u001b[0;32m----> 1\u001b[0;31m \u001b[0mstatuses\u001b[0m \u001b[0;34m=\u001b[0m \u001b[0;34m[\u001b[0m\u001b[0mresult\u001b[0m\u001b[0;34m.\u001b[0m\u001b[0mstatus\u001b[0m \u001b[0;32mfor\u001b[0m \u001b[0mresult\u001b[0m \u001b[0;32min\u001b[0m \u001b[0mfit_results\u001b[0m\u001b[0;34m]\u001b[0m\u001b[0;34m\u001b[0m\u001b[0;34m\u001b[0m\u001b[0m\n\u001b[0m\u001b[1;32m      2\u001b[0m \u001b[0mcov\u001b[0m \u001b[0;34m=\u001b[0m \u001b[0;34m[\u001b[0m\u001b[0mresult\u001b[0m\u001b[0;34m.\u001b[0m\u001b[0mhess_inv\u001b[0m \u001b[0;32mfor\u001b[0m \u001b[0mresult\u001b[0m \u001b[0;32min\u001b[0m \u001b[0mfit_results\u001b[0m\u001b[0;34m]\u001b[0m\u001b[0;34m\u001b[0m\u001b[0;34m\u001b[0m\u001b[0m\n\u001b[1;32m      3\u001b[0m \u001b[0;31m# print(np.array(cov).flatten().shape)\u001b[0m\u001b[0;34m\u001b[0m\u001b[0;34m\u001b[0m\u001b[0;34m\u001b[0m\u001b[0m\n\u001b[1;32m      4\u001b[0m \u001b[0;31m# print(*statuses, sep='\\n')\u001b[0m\u001b[0;34m\u001b[0m\u001b[0;34m\u001b[0m\u001b[0;34m\u001b[0m\u001b[0m\n\u001b[1;32m      5\u001b[0m \u001b[0mmplplot\u001b[0m\u001b[0;34m.\u001b[0m\u001b[0mplot\u001b[0m\u001b[0;34m(\u001b[0m\u001b[0mstatuses\u001b[0m\u001b[0;34m)\u001b[0m\u001b[0;34m\u001b[0m\u001b[0;34m\u001b[0m\u001b[0m\n",
      "\u001b[0;31mNameError\u001b[0m: name 'fit_results' is not defined"
     ]
    }
   ],
   "source": [
    "statuses = [result.status for result in fit_results]\n",
    "cov = [result.hess_inv for result in fit_results]\n",
    "# print(np.array(cov).flatten().shape)\n",
    "# print(*statuses, sep='\\n')\n",
    "mplplot.plot(statuses)"
   ]
  },
  {
   "cell_type": "markdown",
   "id": "af1b5385-f375-42c9-804f-bb55e75628fa",
   "metadata": {},
   "source": [
    "# How many steps taken whilst fitting the initial params to the data"
   ]
  },
  {
   "cell_type": "code",
   "execution_count": null,
   "id": "29f4300b-c9e4-4138-96e7-a18fbf3afe8e",
   "metadata": {},
   "outputs": [],
   "source": [
    "steps_taken = [result.nit for result in fit_results]\n",
    "objective_func_value = [result.jac for result in fit_results]\n",
    "# print(objective_func_value)\n",
    "# The more traces there are, the more iterations required to fit each column\n",
    "mplplot.plot(steps_taken)\n"
   ]
  },
  {
   "cell_type": "code",
   "execution_count": null,
   "id": "558087f7-77b6-4092-a22e-a579d00d5bc7",
   "metadata": {},
   "outputs": [],
   "source": [
    "# List of Differences between intial parameters set for fit to the optimised results returned\n",
    "init_to_opt = []\n",
    "for (param, init) in zip(fit_results, all_columns_initial_params):\n",
    "    for (sing_param, sing_init) in zip(param.x, init):\n",
    "        init_to_opt.append(sing_param - sing_init)\n",
    "mplplot.hist(init_to_opt, bins = np.linspace(0,6,24))\n",
    "# Zero differences for columns with 0 traces in them"
   ]
  },
  {
   "cell_type": "markdown",
   "id": "f059d7c5-98cf-4b72-b99a-25174d58a4eb",
   "metadata": {},
   "source": [
    "# Plotting the traces???"
   ]
  },
  {
   "cell_type": "code",
   "execution_count": null,
   "id": "86b39ba2-f470-4435-bb8e-125b2a3451ea",
   "metadata": {},
   "outputs": [],
   "source": [
    "with apfits.open(file_name) as test:\n",
    "    mplplot.figure(figsize=(10,10))\n",
    "    mplplot.imshow(result[trimmed_dfxLowToHigh.sort_values(\"Direct_Y\").index], aspect=\"auto\")\n",
    "    figure = mplplot.figure(figsize=(10, 10))\n",
    "    ax = figure.add_subplot(1, 1, 1, projection=apwcs.WCS(test[\"SCI\"].header))    \n",
    "    ax.imshow(\n",
    "        # SCI is the images from the simulation\n",
    "        test[\"SCI\"].data,\n",
    "        norm=apvis.ImageNormalize(\n",
    "            stretch=apvis.HistEqStretch(data=test[\"SCI\"].data),\n",
    "            interval=apvis.ZScaleInterval(),\n",
    "        ),\n",
    "        cmap=\"Greys\",\n",
    "    )\n",
    "    # Set image limits\n",
    "    xlim = ax.get_xlim()\n",
    "    ylim = ax.get_ylim()\n",
    "    \n",
    "    ax.scatter(\n",
    "        sourceCoords.ra,\n",
    "        sourceCoords.dec,\n",
    "        marker=\"x\",\n",
    "        c=\"r\",\n",
    "        transform=ax.get_transform(\"world\"),\n",
    "    )\n",
    "    ax.set_title(os.path.basename(file_name))\n",
    "        \n",
    "#     directPixels = getSourcePixelsForImage(file_name, frameListDir)\n",
    "    print(file_name, directPixels[24],directPixels[77] if len(directPixels) > 50 else \"Short\")\n",
    "        \n",
    "    # for loop to create trace boxes for each source within source list\n",
    "    # HOW DO WE CHANGE FOR C DIRECTION?? NEED TO LOAD C DATA???\n",
    "    # where is sourceId defined? Within file_name???\n",
    "    for sourceId, directPixel in enumerate(directPixels):\n",
    "        traceBox1st = compute1stOrderTraceBox(\n",
    "            directPixel,\n",
    "            filter_=filter_,\n",
    "            module=os.path.basename(file_name).split(\"_\")[3][-2].upper(),\n",
    "            direction=\"R\",\n",
    "            ec=\"orange\",\n",
    "            #ec=\"orange\",\n",
    "            lw=\"2\",\n",
    "            fc=\"none\",\n",
    "        )\n",
    "        \n",
    "        traceBox2nd = compute2ndOrderTraceBox(\n",
    "            directPixel,\n",
    "            filter_=filter_\n",
    "            module=os.path.basename(file_name).split(\"_\")[3][-2].upper(),\n",
    "            direction=\"R\",\n",
    "            ec=\"blue\",\n",
    "            #ec=\"orange\",\n",
    "            lw=\"2\",\n",
    "            fc=\"none\",\n",
    "        )\n",
    "        \n",
    "        ax.add_patch(traceBox1st)\n",
    "#         ax.add_patch(traceBox2nd)\n",
    "    \n",
    "    ax.set_xlim(xlim)\n",
    "    ax.set_ylim(ylim)"
   ]
  },
  {
   "cell_type": "markdown",
   "id": "a3fbf29f-cd91-49e7-b732-5bf680ad4094",
   "metadata": {},
   "source": [
    "# NEED to adjust position of applying sensitivity model for each source "
   ]
  },
  {
   "cell_type": "code",
   "execution_count": null,
   "id": "5b681f49-4aa5-41bc-a467-74a431331207",
   "metadata": {},
   "outputs": [],
   "source": [
    "SensFile = apfits.open(f\"GRISM_NIRCAM/V2/NIRCam.{filter_}.{direction}.{module}.1st.sensitivity.fits\")\n",
    "# print(repr(SensFile[1].header)) # Units check\n",
    "SensTable = aptable.Table(SensFile[1].data)\n",
    "SensData_WL = SensTable[0][:]\n",
    "SensData_Sens = SensTable[1][:]\n",
    "SensData_Er = SensTable[2][:]\n",
    "\n",
    "print((SensData_WL.min(),SensData_WL.max()))\n",
    "\n",
    "# Set up the Spectral Response Function Curve to perform Flux calibration (from ADU to Flux)\n",
    "# fill_value = extrapolate required as the 2 wavelength ranges do not match\n",
    "SRFCurve = sp.interpolate.interp1d(SensData_WL,SensData_Sens,kind='cubic',fill_value=\"extrapolate\")\n",
    "\n",
    "SRFCurves = {1: SRFCurve}\n",
    "\n",
    "mplplot.plot(SensData_WL,SRFCurve(SensData_WL))\n"
   ]
  },
  {
   "cell_type": "code",
   "execution_count": null,
   "id": "804877ae-71b9-4309-9524-944d3305ffe9",
   "metadata": {},
   "outputs": [],
   "source": [
    "SensFile = apfits.open(f\"GRISM_NIRCAM/V2/NIRCam.{filter_}.{direction}.{module}.2nd.sensitivity.fits\")\n",
    "# print(repr(SensFile[1].header)) # Units check\n",
    "SensTable2nd = aptable.Table(SensFile2nd[1].data)\n",
    "SensData_WL2nd = SensTable2nd[0][:]\n",
    "SensData_Sens2nd = SensTable2nd[1][:]\n",
    "SensData_Er2nd = SensTable[2][:]\n",
    "\n",
    "print((SensData_WL2nd.min(),SensData_WL2nd.max()))\n",
    "\n",
    "# Set up the Spectral Response Function Curve to perform Flux calibration (from ADU to Flux)\n",
    "# fill_value = extrapolate required as the 2 wavelength ranges do not match\n",
    "SRFCurve2nd = sp.interpolate.interp1d(SensData_WL2nd,SensData_Sens2nd,kind='cubic',fill_value=\"extrapolate\")\n",
    "\n",
    "SRFCurves.update({2:SRFCurve2nd})\n",
    "\n",
    "mplplot.plot(SensData_WL2nd,SRFCurve2nd(SensData_WL2nd))"
   ]
  },
  {
   "cell_type": "code",
   "execution_count": null,
   "id": "f44cd863-acfd-469d-9de2-8e7aaae49f9b",
   "metadata": {},
   "outputs": [],
   "source": [
    "resultSensCurve = np.zeros_like(result)\n",
    "trace_WLs_list = []\n",
    "trace_x_pixels_indexes = []\n",
    "\n",
    "firstPrinted = False\n",
    "secondPrinted = False\n",
    "\n",
    "for res_index, res in enumerate(result):\n",
    "    \n",
    "    order = trimmed_dfxLowToHigh.Order[res_index]\n",
    "    trace = computeTraceWLforXpixels(\n",
    "            (trimmed_dfxLowToHigh.Direct_X[res_index], trimmed_dfxLowToHigh.Direct_Y[res_index]),\n",
    "            filter_=filter_\n",
    "            module=os.path.basename(file_name).split(\"_\")[3][-2].upper(),\n",
    "            direction=\"R\",\n",
    "    )\n",
    "    # Temporary check that second order wavelength step per pixel is smaller\n",
    "    # remove once verified.\n",
    "    if order == 1 and not firstPrinted:\n",
    "        print(order)\n",
    "        print(trace[1]-trace[0])\n",
    "    elif order == 2 and not secondPrinted:\n",
    "        print(order)\n",
    "        print(trace[1]-trace[0])\n",
    "\n",
    "#     print(trace[0])\n",
    "    trace_x_pixels = trace[0][(trace[0]>=0) & (trace[0]<2048)].astype(int)\n",
    "    trace_x_pixels_indexes.append(trace_x_pixels)\n",
    "    \n",
    "    trace_WLs = trace[1][(trace[0]>=0) & (trace[0]<2048)]\n",
    "    trace_WLs_list.append(trace_WLs)\n",
    "#     print(trace_WLs,trace_WLs.shape)\n",
    "    \n",
    "#     try:\n",
    "#         print(trace_x_pixels.min(),trace_x_pixels.max())\n",
    "#     except:\n",
    "#         print(trace_x_pixels)\n",
    "    \n",
    "#     print(len(trace_x_pixels))\n",
    "    \n",
    "    resultSensCurve[res_index,trace_x_pixels] = SRFCurves[order](trace_WLs)\n",
    "    \n",
    "mplplot.figure(figsize=(10,10))\n",
    "mplplot.imshow(resultSensCurve[trimmed_dfxLowToHigh.sort_values(\"Direct_Y\").index], aspect=\"auto\")\n",
    "\n",
    "calibratedFlux = result/resultSensCurve\n",
    "\n",
    "\n",
    "mplplot.figure(figsize=(10,10))\n",
    "mplplot.imshow(calibratedFlux[trimmed_dfxLowToHigh.sort_values(\"Direct_Y\").index], aspect=\"auto\",\n",
    "               norm=apvis.ImageNormalize(\n",
    "                stretch=apvis.HistEqStretch(data=calibratedFlux[trimmed_dfxLowToHigh.sort_values(\"Direct_Y\").index]),\n",
    "                interval=apvis.ZScaleInterval(),\n",
    "        ))\n",
    "    "
   ]
  },
  {
   "cell_type": "markdown",
   "id": "4ebc39ef-113d-4bd7-ad3f-c9bfdd5c0610",
   "metadata": {},
   "source": [
    "## NEED to adjust position of applying sensitivity model for each source "
   ]
  },
  {
   "cell_type": "code",
   "execution_count": null,
   "id": "97ce9df0-c32c-4419-b713-ca21105cd241",
   "metadata": {},
   "outputs": [],
   "source": [
    "for position, sub_result in enumerate(calibratedFlux):\n",
    "    mplplot.figure(figsize=(9,9))\n",
    "    wavelengths = trace_WLs_list[position]\n",
    "    wavelengths_mask = (wavelengths>=2.5) & (wavelengths<3.9)\n",
    "    mplplot.plot(wavelengths[wavelengths_mask], sub_result[trace_x_pixels_indexes[position]][wavelengths_mask])\n",
    "    \n",
    "    mplplot.title(f\"Trace Number {position}\")\n",
    "    mplplot.xlabel('$\\lambda$ / $\\mu$m')\n",
    "    mplplot.ylabel('Flux / erg s$^{-1}$ cm$^{-2}$ Å$^{-1}$' )"
   ]
  }
 ],
 "metadata": {
  "kernelspec": {
   "display_name": "Python 3 (ipykernel)",
   "language": "python",
   "name": "python3"
  },
  "language_info": {
   "codemirror_mode": {
    "name": "ipython",
    "version": 3
   },
   "file_extension": ".py",
   "mimetype": "text/x-python",
   "name": "python",
   "nbconvert_exporter": "python",
   "pygments_lexer": "ipython3",
   "version": "3.7.11"
  }
 },
 "nbformat": 4,
 "nbformat_minor": 5
}
